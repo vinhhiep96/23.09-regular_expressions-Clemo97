{
 "cells": [
  {
   "cell_type": "markdown",
   "metadata": {},
   "source": [
    "# Regular Expressions"
   ]
  },
  {
   "cell_type": "markdown",
   "metadata": {},
   "source": [
    "That said, learning (and loving!) regular expressions is something that is a worthwhile investment\n",
    "<ul>\n",
    "<li>Once you understand how they work, complex operations with string data can be written a lot quicker, which will save you time.</li>\n",
    "    <li>Regular expressions are often faster to execute than their manual equivalents.</li>\n",
    "<li>Regular expressions are supported in almost every modern programming language, as well as other places like command line utilities and databases. Understanding regular expressions gives you a powerful tool that you can use wherever you work with data.</li>\n",
    "    </ul>"
   ]
  },
  {
   "cell_type": "markdown",
   "metadata": {},
   "source": [
    "The dataset we will be working with is based off this CSV of Hacker News stories from September 2015 to September 2016. The columns in the dataset are explained below:\n",
    "<ul>\n",
    "    <li><b>id</b>: The unique identifier from Hacker News for the story</li>\n",
    "    <li><b>title</b>: The title of the story</li>\n",
    "    <li><b>url</b>: The URL that the stories links to, if the story has a URL</li>\n",
    "    <li><b>num_points</b>: The number of points the story acquired, calculated as the total number of upvotes minus the total number of downvotes</li>\n",
    "    <li><b>num_comments</b>: The number of comments that were made on the story</li>\n",
    "    <li><b>author</b>: The username of the person who submitted the story</li>\n",
    "    <li><b>created_at</b>: The date and time at which the story was submitted</li>\n",
    "    </ul>"
   ]
  },
  {
   "cell_type": "markdown",
   "metadata": {},
   "source": [
    "For teaching purposes, the dataset has been reduced from the almost 300,000 rows in its original form to approximately 20,000 rows by removing all submissions that did not receive any comments, and then randomly sampling from the remaining submissions. You can download the modified dataset using the dataset preview tool."
   ]
  },
  {
   "cell_type": "markdown",
   "metadata": {},
   "source": [
    "When working with regular expressions, we use the term <b>pattern</b> to describe a regular expression that we've written. If the pattern is found within the string we're searching, we say that it has matched."
   ]
  },
  {
   "cell_type": "markdown",
   "metadata": {},
   "source": [
    "As we previously learned, letters and numbers represent themselves in regular expressions. If we wanted to find the string \"and\" within another string, the regex pattern for that is simply and:\n",
    "![ ](images/regular1.png)"
   ]
  },
  {
   "cell_type": "markdown",
   "metadata": {},
   "source": [
    "<br>The first of these we'll learn is called a set. A set allows us to specify two or more characters that can match in a single character's position.</br>\n",
    "\n",
    "<br>We define a set by placing the characters we want to match for in square brackets:</br>\n",
    "![ ](images\\regular2.png)\n",
    "\n",
    "The regular expression above will match the strings <b>mend</b>, <b>send</b>, and <b>bend</b>."
   ]
  },
  {
   "cell_type": "markdown",
   "metadata": {},
   "source": [
    "Let's look at how we can add sets to match more of our example strings from earlier:\n",
    "![ ](images\\regular3.png)"
   ]
  },
  {
   "cell_type": "markdown",
   "metadata": {},
   "source": [
    "### Series.str.contains()"
   ]
  },
  {
   "cell_type": "code",
   "execution_count": 2,
   "metadata": {},
   "outputs": [
    {
     "ename": "FileNotFoundError",
     "evalue": "[Errno 2] No such file or directory: 'hacker_news.csv'",
     "output_type": "error",
     "traceback": [
      "\u001b[1;31m---------------------------------------------------------------------------\u001b[0m",
      "\u001b[1;31mFileNotFoundError\u001b[0m                         Traceback (most recent call last)",
      "\u001b[1;32md:\\Other\\Lap trinh\\Jupyter\\23.09-regular_expressions-Clemo97\\.ipynb_checkpoints\\regular_expressions-checkpoint.ipynb Cell 10\u001b[0m line \u001b[0;36m3\n\u001b[0;32m      <a href='vscode-notebook-cell:/d%3A/Other/Lap%20trinh/Jupyter/23.09-regular_expressions-Clemo97/.ipynb_checkpoints/regular_expressions-checkpoint.ipynb#X12sZmlsZQ%3D%3D?line=0'>1</a>\u001b[0m \u001b[39mimport\u001b[39;00m \u001b[39mpandas\u001b[39;00m \u001b[39mas\u001b[39;00m \u001b[39mpd\u001b[39;00m\n\u001b[0;32m      <a href='vscode-notebook-cell:/d%3A/Other/Lap%20trinh/Jupyter/23.09-regular_expressions-Clemo97/.ipynb_checkpoints/regular_expressions-checkpoint.ipynb#X12sZmlsZQ%3D%3D?line=1'>2</a>\u001b[0m \u001b[39mimport\u001b[39;00m \u001b[39mnumpy\u001b[39;00m \u001b[39mas\u001b[39;00m \u001b[39mnp\u001b[39;00m\n\u001b[1;32m----> <a href='vscode-notebook-cell:/d%3A/Other/Lap%20trinh/Jupyter/23.09-regular_expressions-Clemo97/.ipynb_checkpoints/regular_expressions-checkpoint.ipynb#X12sZmlsZQ%3D%3D?line=2'>3</a>\u001b[0m hn \u001b[39m=\u001b[39m pd\u001b[39m.\u001b[39;49mread_csv(\u001b[39m\"\u001b[39;49m\u001b[39mhacker_news.csv\u001b[39;49m\u001b[39m\"\u001b[39;49m)\n\u001b[0;32m      <a href='vscode-notebook-cell:/d%3A/Other/Lap%20trinh/Jupyter/23.09-regular_expressions-Clemo97/.ipynb_checkpoints/regular_expressions-checkpoint.ipynb#X12sZmlsZQ%3D%3D?line=3'>4</a>\u001b[0m hn\u001b[39m.\u001b[39mhead()\n",
      "File \u001b[1;32m~\\AppData\\Local\\Packages\\PythonSoftwareFoundation.Python.3.11_qbz5n2kfra8p0\\LocalCache\\local-packages\\Python311\\site-packages\\pandas\\io\\parsers\\readers.py:912\u001b[0m, in \u001b[0;36mread_csv\u001b[1;34m(filepath_or_buffer, sep, delimiter, header, names, index_col, usecols, dtype, engine, converters, true_values, false_values, skipinitialspace, skiprows, skipfooter, nrows, na_values, keep_default_na, na_filter, verbose, skip_blank_lines, parse_dates, infer_datetime_format, keep_date_col, date_parser, date_format, dayfirst, cache_dates, iterator, chunksize, compression, thousands, decimal, lineterminator, quotechar, quoting, doublequote, escapechar, comment, encoding, encoding_errors, dialect, on_bad_lines, delim_whitespace, low_memory, memory_map, float_precision, storage_options, dtype_backend)\u001b[0m\n\u001b[0;32m    899\u001b[0m kwds_defaults \u001b[39m=\u001b[39m _refine_defaults_read(\n\u001b[0;32m    900\u001b[0m     dialect,\n\u001b[0;32m    901\u001b[0m     delimiter,\n\u001b[1;32m   (...)\u001b[0m\n\u001b[0;32m    908\u001b[0m     dtype_backend\u001b[39m=\u001b[39mdtype_backend,\n\u001b[0;32m    909\u001b[0m )\n\u001b[0;32m    910\u001b[0m kwds\u001b[39m.\u001b[39mupdate(kwds_defaults)\n\u001b[1;32m--> 912\u001b[0m \u001b[39mreturn\u001b[39;00m _read(filepath_or_buffer, kwds)\n",
      "File \u001b[1;32m~\\AppData\\Local\\Packages\\PythonSoftwareFoundation.Python.3.11_qbz5n2kfra8p0\\LocalCache\\local-packages\\Python311\\site-packages\\pandas\\io\\parsers\\readers.py:577\u001b[0m, in \u001b[0;36m_read\u001b[1;34m(filepath_or_buffer, kwds)\u001b[0m\n\u001b[0;32m    574\u001b[0m _validate_names(kwds\u001b[39m.\u001b[39mget(\u001b[39m\"\u001b[39m\u001b[39mnames\u001b[39m\u001b[39m\"\u001b[39m, \u001b[39mNone\u001b[39;00m))\n\u001b[0;32m    576\u001b[0m \u001b[39m# Create the parser.\u001b[39;00m\n\u001b[1;32m--> 577\u001b[0m parser \u001b[39m=\u001b[39m TextFileReader(filepath_or_buffer, \u001b[39m*\u001b[39;49m\u001b[39m*\u001b[39;49mkwds)\n\u001b[0;32m    579\u001b[0m \u001b[39mif\u001b[39;00m chunksize \u001b[39mor\u001b[39;00m iterator:\n\u001b[0;32m    580\u001b[0m     \u001b[39mreturn\u001b[39;00m parser\n",
      "File \u001b[1;32m~\\AppData\\Local\\Packages\\PythonSoftwareFoundation.Python.3.11_qbz5n2kfra8p0\\LocalCache\\local-packages\\Python311\\site-packages\\pandas\\io\\parsers\\readers.py:1407\u001b[0m, in \u001b[0;36mTextFileReader.__init__\u001b[1;34m(self, f, engine, **kwds)\u001b[0m\n\u001b[0;32m   1404\u001b[0m     \u001b[39mself\u001b[39m\u001b[39m.\u001b[39moptions[\u001b[39m\"\u001b[39m\u001b[39mhas_index_names\u001b[39m\u001b[39m\"\u001b[39m] \u001b[39m=\u001b[39m kwds[\u001b[39m\"\u001b[39m\u001b[39mhas_index_names\u001b[39m\u001b[39m\"\u001b[39m]\n\u001b[0;32m   1406\u001b[0m \u001b[39mself\u001b[39m\u001b[39m.\u001b[39mhandles: IOHandles \u001b[39m|\u001b[39m \u001b[39mNone\u001b[39;00m \u001b[39m=\u001b[39m \u001b[39mNone\u001b[39;00m\n\u001b[1;32m-> 1407\u001b[0m \u001b[39mself\u001b[39m\u001b[39m.\u001b[39m_engine \u001b[39m=\u001b[39m \u001b[39mself\u001b[39;49m\u001b[39m.\u001b[39;49m_make_engine(f, \u001b[39mself\u001b[39;49m\u001b[39m.\u001b[39;49mengine)\n",
      "File \u001b[1;32m~\\AppData\\Local\\Packages\\PythonSoftwareFoundation.Python.3.11_qbz5n2kfra8p0\\LocalCache\\local-packages\\Python311\\site-packages\\pandas\\io\\parsers\\readers.py:1661\u001b[0m, in \u001b[0;36mTextFileReader._make_engine\u001b[1;34m(self, f, engine)\u001b[0m\n\u001b[0;32m   1659\u001b[0m     \u001b[39mif\u001b[39;00m \u001b[39m\"\u001b[39m\u001b[39mb\u001b[39m\u001b[39m\"\u001b[39m \u001b[39mnot\u001b[39;00m \u001b[39min\u001b[39;00m mode:\n\u001b[0;32m   1660\u001b[0m         mode \u001b[39m+\u001b[39m\u001b[39m=\u001b[39m \u001b[39m\"\u001b[39m\u001b[39mb\u001b[39m\u001b[39m\"\u001b[39m\n\u001b[1;32m-> 1661\u001b[0m \u001b[39mself\u001b[39m\u001b[39m.\u001b[39mhandles \u001b[39m=\u001b[39m get_handle(\n\u001b[0;32m   1662\u001b[0m     f,\n\u001b[0;32m   1663\u001b[0m     mode,\n\u001b[0;32m   1664\u001b[0m     encoding\u001b[39m=\u001b[39;49m\u001b[39mself\u001b[39;49m\u001b[39m.\u001b[39;49moptions\u001b[39m.\u001b[39;49mget(\u001b[39m\"\u001b[39;49m\u001b[39mencoding\u001b[39;49m\u001b[39m\"\u001b[39;49m, \u001b[39mNone\u001b[39;49;00m),\n\u001b[0;32m   1665\u001b[0m     compression\u001b[39m=\u001b[39;49m\u001b[39mself\u001b[39;49m\u001b[39m.\u001b[39;49moptions\u001b[39m.\u001b[39;49mget(\u001b[39m\"\u001b[39;49m\u001b[39mcompression\u001b[39;49m\u001b[39m\"\u001b[39;49m, \u001b[39mNone\u001b[39;49;00m),\n\u001b[0;32m   1666\u001b[0m     memory_map\u001b[39m=\u001b[39;49m\u001b[39mself\u001b[39;49m\u001b[39m.\u001b[39;49moptions\u001b[39m.\u001b[39;49mget(\u001b[39m\"\u001b[39;49m\u001b[39mmemory_map\u001b[39;49m\u001b[39m\"\u001b[39;49m, \u001b[39mFalse\u001b[39;49;00m),\n\u001b[0;32m   1667\u001b[0m     is_text\u001b[39m=\u001b[39;49mis_text,\n\u001b[0;32m   1668\u001b[0m     errors\u001b[39m=\u001b[39;49m\u001b[39mself\u001b[39;49m\u001b[39m.\u001b[39;49moptions\u001b[39m.\u001b[39;49mget(\u001b[39m\"\u001b[39;49m\u001b[39mencoding_errors\u001b[39;49m\u001b[39m\"\u001b[39;49m, \u001b[39m\"\u001b[39;49m\u001b[39mstrict\u001b[39;49m\u001b[39m\"\u001b[39;49m),\n\u001b[0;32m   1669\u001b[0m     storage_options\u001b[39m=\u001b[39;49m\u001b[39mself\u001b[39;49m\u001b[39m.\u001b[39;49moptions\u001b[39m.\u001b[39;49mget(\u001b[39m\"\u001b[39;49m\u001b[39mstorage_options\u001b[39;49m\u001b[39m\"\u001b[39;49m, \u001b[39mNone\u001b[39;49;00m),\n\u001b[0;32m   1670\u001b[0m )\n\u001b[0;32m   1671\u001b[0m \u001b[39massert\u001b[39;00m \u001b[39mself\u001b[39m\u001b[39m.\u001b[39mhandles \u001b[39mis\u001b[39;00m \u001b[39mnot\u001b[39;00m \u001b[39mNone\u001b[39;00m\n\u001b[0;32m   1672\u001b[0m f \u001b[39m=\u001b[39m \u001b[39mself\u001b[39m\u001b[39m.\u001b[39mhandles\u001b[39m.\u001b[39mhandle\n",
      "File \u001b[1;32m~\\AppData\\Local\\Packages\\PythonSoftwareFoundation.Python.3.11_qbz5n2kfra8p0\\LocalCache\\local-packages\\Python311\\site-packages\\pandas\\io\\common.py:859\u001b[0m, in \u001b[0;36mget_handle\u001b[1;34m(path_or_buf, mode, encoding, compression, memory_map, is_text, errors, storage_options)\u001b[0m\n\u001b[0;32m    854\u001b[0m \u001b[39melif\u001b[39;00m \u001b[39misinstance\u001b[39m(handle, \u001b[39mstr\u001b[39m):\n\u001b[0;32m    855\u001b[0m     \u001b[39m# Check whether the filename is to be opened in binary mode.\u001b[39;00m\n\u001b[0;32m    856\u001b[0m     \u001b[39m# Binary mode does not support 'encoding' and 'newline'.\u001b[39;00m\n\u001b[0;32m    857\u001b[0m     \u001b[39mif\u001b[39;00m ioargs\u001b[39m.\u001b[39mencoding \u001b[39mand\u001b[39;00m \u001b[39m\"\u001b[39m\u001b[39mb\u001b[39m\u001b[39m\"\u001b[39m \u001b[39mnot\u001b[39;00m \u001b[39min\u001b[39;00m ioargs\u001b[39m.\u001b[39mmode:\n\u001b[0;32m    858\u001b[0m         \u001b[39m# Encoding\u001b[39;00m\n\u001b[1;32m--> 859\u001b[0m         handle \u001b[39m=\u001b[39m \u001b[39mopen\u001b[39;49m(\n\u001b[0;32m    860\u001b[0m             handle,\n\u001b[0;32m    861\u001b[0m             ioargs\u001b[39m.\u001b[39;49mmode,\n\u001b[0;32m    862\u001b[0m             encoding\u001b[39m=\u001b[39;49mioargs\u001b[39m.\u001b[39;49mencoding,\n\u001b[0;32m    863\u001b[0m             errors\u001b[39m=\u001b[39;49merrors,\n\u001b[0;32m    864\u001b[0m             newline\u001b[39m=\u001b[39;49m\u001b[39m\"\u001b[39;49m\u001b[39m\"\u001b[39;49m,\n\u001b[0;32m    865\u001b[0m         )\n\u001b[0;32m    866\u001b[0m     \u001b[39melse\u001b[39;00m:\n\u001b[0;32m    867\u001b[0m         \u001b[39m# Binary mode\u001b[39;00m\n\u001b[0;32m    868\u001b[0m         handle \u001b[39m=\u001b[39m \u001b[39mopen\u001b[39m(handle, ioargs\u001b[39m.\u001b[39mmode)\n",
      "\u001b[1;31mFileNotFoundError\u001b[0m: [Errno 2] No such file or directory: 'hacker_news.csv'"
     ]
    }
   ],
   "source": [
    "import pandas as pd\n",
    "import numpy as np\n",
    "hn = pd.read_csv(\"hacker_news.csv\")\n",
    "hn.head()"
   ]
  },
  {
   "cell_type": "code",
   "execution_count": null,
   "metadata": {},
   "outputs": [
    {
     "name": "stdout",
     "output_type": "stream",
     "text": [
      "0             Julie's favorite color is green.\n",
      "1               Keli's favorite color is Blue.\n",
      "2    Craig's favorite colors are blue and red.\n",
      "dtype: object\n"
     ]
    }
   ],
   "source": [
    "eg_list = [\"Julie's favorite color is green.\",\n",
    "           \"Keli's favorite color is Blue.\",\n",
    "           \"Craig's favorite colors are blue and red.\"]\n",
    "\n",
    "eg_series = pd.Series(eg_list)\n",
    "print(eg_series)"
   ]
  },
  {
   "cell_type": "code",
   "execution_count": null,
   "metadata": {},
   "outputs": [
    {
     "name": "stdout",
     "output_type": "stream",
     "text": [
      "0    False\n",
      "1     True\n",
      "2     True\n",
      "dtype: bool\n"
     ]
    }
   ],
   "source": [
    "pattern = \"[Bb]lue\"\n",
    "pattern_contained = eg_series.str.contains(pattern)\n",
    "print(pattern_contained)"
   ]
  },
  {
   "cell_type": "markdown",
   "metadata": {},
   "source": [
    "<br>The result is a boolean mask: a series of <b>True/False</b> values.</br>\n",
    "\n",
    "<br>One of the neat things about boolean masks is that you can use the <b>Series.sum()</b> method to sum all the values in the boolean mask, with each True value counting as 1, and each False as 0. This means that we can easily count the number of values in the original series that matched our pattern:</br>"
   ]
  },
  {
   "cell_type": "code",
   "execution_count": null,
   "metadata": {},
   "outputs": [
    {
     "name": "stdout",
     "output_type": "stream",
     "text": [
      "2\n"
     ]
    }
   ],
   "source": [
    "pattern_count = pattern_contained.sum()\n",
    "print(pattern_count)"
   ]
  },
  {
   "cell_type": "markdown",
   "metadata": {},
   "source": [
    "The following code explains how we can view the titles that match the <b>pattern</b>."
   ]
  },
  {
   "cell_type": "code",
   "execution_count": null,
   "metadata": {},
   "outputs": [
    {
     "name": "stdout",
     "output_type": "stream",
     "text": [
      "0    False\n",
      "1    False\n",
      "2    False\n",
      "3    False\n",
      "4    False\n",
      "Name: title, dtype: bool\n"
     ]
    }
   ],
   "source": [
    "titles = hn['title']\n",
    "\n",
    "py_titles_bool = titles.str.contains(\"[Pp]ython\")\n",
    "print(py_titles_bool.head())"
   ]
  },
  {
   "cell_type": "code",
   "execution_count": null,
   "metadata": {},
   "outputs": [
    {
     "name": "stdout",
     "output_type": "stream",
     "text": [
      "102                  From Python to Lua: Why We Switched\n",
      "103            Ubuntu 16.04 LTS to Ship Without Python 2\n",
      "144    Create a GUI Application Using Qt and Python i...\n",
      "196    How I Solved GCHQ's Xmas Card with Python and ...\n",
      "436    Unikernel Power Comes to Java, Node.js, Go, an...\n",
      "Name: title, dtype: object\n"
     ]
    }
   ],
   "source": [
    "py_titles = titles[py_titles_bool]\n",
    "print(py_titles.head())"
   ]
  },
  {
   "cell_type": "code",
   "execution_count": null,
   "metadata": {},
   "outputs": [
    {
     "data": {
      "text/plain": [
       "Cysignals: signal handling (SIGINT, SIGSEGV, ) for calling C from Python           1\n",
       "Pineapple  A standalone front end to IPython for Mac                               1\n",
       "Show HN: Stack overflow command line client added support to python 2              1\n",
       "Show HN: TeachCraft  Learning Python Through Minecraft                             1\n",
       "Python vs. Julia Observations                                                      1\n",
       "                                                                                  ..\n",
       "Ask HN: How to automate Python apps deployment?                                    1\n",
       "Legofy  Python program to make an image to look as if it was created with Legos    1\n",
       "Ubuntu Drops Python 2.7 from the Default Install in 16.04                          1\n",
       "PyThalesians: Python Open Source Financial Library                                 1\n",
       "Memspector: Inspect memory usage of Python functions                               1\n",
       "Name: title, Length: 160, dtype: int64"
      ]
     },
     "execution_count": 7,
     "metadata": {},
     "output_type": "execute_result"
    }
   ],
   "source": [
    "py_titles.value_counts()"
   ]
  },
  {
   "cell_type": "markdown",
   "metadata": {},
   "source": [
    "## quantifier"
   ]
  },
  {
   "cell_type": "markdown",
   "metadata": {},
   "source": [
    "<br>We could use braces <b>({})</b> to specify that a character repeats in our regular expression.</br>\n",
    "\n",
    "<br>For instance, if we wanted to write a pattern that matches the numbers in text from <b>1000</b> to <b>2999</b> we could write the regular expression below:</br>\n",
    "![ ](images\\regular4.png)\n",
    "\n",
    "The name for this type of regular expression syntax is called a quantifier."
   ]
  },
  {
   "cell_type": "markdown",
   "metadata": {},
   "source": [
    "Quantifiers specify how many of the previous character our pattern requires, which can help us when we want to match substrings of specific lengths. As an example, we might want to match both <b>e-mail</b> and <b>email</b>. To do this, we would want to specify to match<b> - </b>either zero or one times."
   ]
  },
  {
   "cell_type": "markdown",
   "metadata": {},
   "source": [
    "The specific type of quantifier we saw above is called a <b>numeric quantifier</b>. Here are the different types of numeric quantifiers we can use:\n",
    "![ ](images\\regular7.png)\n",
    "You might notice that the last two examples above omit the first and last character as wildcards, in the same way that we can omit the first or last indicies when slicing lists."
   ]
  },
  {
   "cell_type": "markdown",
   "metadata": {},
   "source": [
    "In addition to numeric quantifiers, there are single characters in regex that specify some common quantifiers that you're likely to use. A summary of them is below.\n",
    "![ ](images\\regular8.png)"
   ]
  },
  {
   "cell_type": "code",
   "execution_count": null,
   "metadata": {},
   "outputs": [],
   "source": [
    "#We're going to find how many titles in our dataset mention email or e-mail. \n",
    "#To do this, we'll need to use ?, the optional quantifier, \n",
    "#to specify that the dash character - is optional in our regular expression.\n",
    "titles = hn[\"title\"]\n",
    "pattern = \"e-{0,1}mail\"\n",
    "\n",
    "email_bool = titles.str.contains(pattern)\n",
    "email_count = email_bool.sum()\n",
    "email_titles = titles[email_bool]"
   ]
  },
  {
   "cell_type": "code",
   "execution_count": null,
   "metadata": {},
   "outputs": [
    {
     "data": {
      "text/plain": [
       "119     Show HN: Send an email from your shell to your...\n",
       "313         Disposable emails for safe spam free shopping\n",
       "1361    Ask HN: Doing cold emails? helps us prove this...\n",
       "1750    Protect yourself from spam, bots and phishing ...\n",
       "2421                   Ashley Madison hack treating email\n",
       "Name: title, dtype: object"
      ]
     },
     "execution_count": 9,
     "metadata": {},
     "output_type": "execute_result"
    }
   ],
   "source": [
    "email_titles.head()"
   ]
  },
  {
   "cell_type": "markdown",
   "metadata": {},
   "source": [
    "## finding tags"
   ]
  },
  {
   "cell_type": "markdown",
   "metadata": {},
   "source": [
    "In this screen, our task is going to be to find how many titles in our dataset have tags.\n",
    "\n",
    "Our first inclination may be to create the regex <b>[pdf]</b>. Unfortunately, the brackets would be interpreted as a <b>set</b>, so our pattern would match the single characters p, d, or f.\n",
    "![ ](images\\regular9.png)"
   ]
  },
  {
   "cell_type": "markdown",
   "metadata": {},
   "source": [
    "To match the substring \"[pdf]\", we can use backslashes to escape both the open and closing brackets: \\[pdf\\].\n",
    "![ ](images\\regular10.png)\n",
    "\n",
    "The other critical part of our task of identifying how many titles have tags is knowing how to match the characters between the brackets (like pdf and video) without knowing ahead of time what the different topic tags will be."
   ]
  },
  {
   "cell_type": "markdown",
   "metadata": {},
   "source": [
    "To match unknown characters using regular expressions, we use <b>character classes</b>. Character classes allow us to match certain groups of characters. We've actually seen two examples of character classes already:\n",
    "<ol type=\"1\">\n",
    "    <li>\n",
    "The set notation using brackets to match any of a number of characters.</li>\n",
    "    <li>The range notation, which we used to match ranges of digits (like <b>[0-9])</b>.</li>\n",
    "    </ol>\n",
    "    \n",
    "<br>Let's look at a summary of syntax for some of the regex character classes:</br>\n",
    "\n",
    "![ ](images\\regular11.png)\n",
    "There are two new things we can observe from this table:\n",
    "<ol type=\"1\">\n",
    "    <li>Ranges can be used for letters as well as numbers.</li>\n",
    "    <li>Sets and ranges can be combined.</li>\n",
    "</ol>\n",
    "Just like with quantifiers, there are some other common character classes which we'll use a lot.\n",
    "\n",
    "![ ](images\\regular12.png)"
   ]
  },
  {
   "cell_type": "markdown",
   "metadata": {},
   "source": [
    "In order to match word characters between our brackets, we can combine the <b>word character class (\\w)</b> with the <b>'one or more'</b> <b>quantifier (+)</b>, giving us a combined pattern of <b>\\w+</b>."
   ]
  },
  {
   "cell_type": "markdown",
   "metadata": {},
   "source": [
    "This will match sequences like pdf, video, Python, and 2018 but won't match a sequence containing a space or punctuation character like PHP-DEV or XKCD Flowchart. If we wanted to match those tags as well, we could use .+; however, in this case, we're just interested in single-word tags without special characters.\n",
    "\n",
    "Let's quickly recap the concepts we learned in this screen:\n",
    "<ul>\n",
    "<li>We can use a backslash to escape characters that have special meaning in regular expressions (e.g. <b>\\</b> will match an open bracket character).</li>\n",
    "    <li>Character classes let us match certain groups of characters (e.g. <b>\\w</b> will match any word character).</li>\n",
    "<li>Character classes can be combined with quantifiers when we want to match different numbers of characters.</li>"
   ]
  },
  {
   "cell_type": "code",
   "execution_count": null,
   "metadata": {},
   "outputs": [],
   "source": [
    "pattern = \"\\[\\w+\\]\"\n",
    "\n",
    "tag_titles = titles.str.contains(pattern)\n",
    "\n",
    "tag_count = tag_titles.sum()"
   ]
  },
  {
   "cell_type": "code",
   "execution_count": null,
   "metadata": {},
   "outputs": [
    {
     "data": {
      "text/plain": [
       "False    19655\n",
       "True       444\n",
       "Name: title, dtype: int64"
      ]
     },
     "execution_count": 11,
     "metadata": {},
     "output_type": "execute_result"
    }
   ],
   "source": [
    "tag_titles.value_counts()"
   ]
  },
  {
   "cell_type": "markdown",
   "metadata": {},
   "source": [
    "## raw strings\n",
    "\n",
    "![ ](images\\regular13.png)"
   ]
  },
  {
   "cell_type": "markdown",
   "metadata": {},
   "source": [
    "![ ](images\\regular14.png)"
   ]
  },
  {
   "cell_type": "markdown",
   "metadata": {},
   "source": [
    "<br>We strongly recommend using raw strings for every regex you write, rather than remember which sequences are escape sequences and using raw strings selectively.</br>\n",
    "<br>That way, you'll never encounter a situation where you forget or overlook something which causes your regex to break.</br>"
   ]
  },
  {
   "cell_type": "markdown",
   "metadata": {},
   "source": [
    "## capture groups\n",
    "Capture groups allow us to specify one or more groups within our match that we can access separately.\n",
    "<br>In this mission, we'll learn how to use one capture group per regular expression, but in the next mission we'll learn some more complex capture group patterns.</br>"
   ]
  },
  {
   "cell_type": "markdown",
   "metadata": {},
   "source": [
    "We specify capture groups using parentheses. Let's add an open and close parentheses to the pattern we wrote in the previous screen, and break down how each character in our regular expression works:\n",
    "\n",
    "![ ](images\\regular15.png)"
   ]
  },
  {
   "cell_type": "markdown",
   "metadata": {},
   "source": [
    "We use the <b>Series.str.extract()</b> method to extract the match within our parentheses, in order to find out what the text of these tags were, and how many of each are in the dataset?"
   ]
  },
  {
   "cell_type": "code",
   "execution_count": null,
   "metadata": {},
   "outputs": [
    {
     "name": "stdout",
     "output_type": "stream",
     "text": [
      "66     Analysis of 114 propaganda sources from ISIS, ...\n",
      "100    Munich Gunman Got Weapon from the Darknet [Ger...\n",
      "159         File indexing and searching for Plan 9 [pdf]\n",
      "162    Attack on Kunduz Trauma Centre, Afghanistan  I...\n",
      "195               [Beta] Speedtest.net  HTML5 Speed Test\n",
      "Name: title, dtype: object\n"
     ]
    }
   ],
   "source": [
    "tag_5 = titles[tag_titles].head()\n",
    "print(tag_5)"
   ]
  },
  {
   "cell_type": "code",
   "execution_count": null,
   "metadata": {},
   "outputs": [
    {
     "name": "stdout",
     "output_type": "stream",
     "text": [
      "            0\n",
      "66      [pdf]\n",
      "100  [German]\n",
      "159     [pdf]\n",
      "162     [pdf]\n",
      "195    [Beta]\n"
     ]
    }
   ],
   "source": [
    "pattern = r\"(\\[\\w+\\])\"\n",
    "tag_5_matches = tag_5.str.extract(pattern)\n",
    "print(tag_5_matches)"
   ]
  },
  {
   "cell_type": "markdown",
   "metadata": {},
   "source": [
    "We can move our parentheses inside the brackets to get just the text:"
   ]
  },
  {
   "cell_type": "code",
   "execution_count": null,
   "metadata": {},
   "outputs": [
    {
     "name": "stdout",
     "output_type": "stream",
     "text": [
      "          0\n",
      "66      pdf\n",
      "100  German\n",
      "159     pdf\n",
      "162     pdf\n",
      "195    Beta\n"
     ]
    }
   ],
   "source": [
    "pattern = r\"\\[(\\w+)\\]\"\n",
    "tag_5_matches = tag_5.str.extract(pattern)\n",
    "print(tag_5_matches)"
   ]
  },
  {
   "cell_type": "markdown",
   "metadata": {},
   "source": [
    "## negative character classes\n",
    "<br>Negative character classes are character classes that match every character except a character class.</br>\n",
    "\n",
    "<br>We can see that there are a number of matches that contain <b>Java</b> as part of the word <b>JavaScript</b>. We want to exclude these titles from matching so we get an accurate count. One way of doing this is by using negeative character classes.</br>\n",
    "Let's look at a table of the common negative character classes:\n",
    "![ ](images\\regular16.png)"
   ]
  },
  {
   "cell_type": "code",
   "execution_count": null,
   "metadata": {},
   "outputs": [
    {
     "data": {
      "text/plain": [
       "436     Unikernel Power Comes to Java, Node.js, Go, an...\n",
       "811     Ask HN: Are there any projects or compilers wh...\n",
       "1840                    Adopting RxJava on the Airbnb App\n",
       "1972          Node.js vs. Java: Which Is Faster for APIs?\n",
       "2093                    Java EE and Microservices in 2016\n",
       "2367    Code that is valid in both PHP and Java, and p...\n",
       "2493    Ask HN: I've been a java dev for a couple of y...\n",
       "2751                Eventsourcing for Java 0.4.0 released\n",
       "2910                2016 JavaOne Intel Keynote  32mn Talk\n",
       "3452    What are the Differences Between Java Platform...\n",
       "Name: title, dtype: object"
      ]
     },
     "execution_count": 18,
     "metadata": {},
     "output_type": "execute_result"
    }
   ],
   "source": [
    "def first_10_matches(pattern):\n",
    "    \"\"\"\n",
    "    Return the first 10 story titles that match\n",
    "    the provided regular expression\n",
    "    \"\"\"\n",
    "    all_matches = titles[titles.str.contains(pattern)]\n",
    "    first_10 = all_matches.head(10)\n",
    "    return first_10\n",
    "\n",
    "pattern = r\"[Jj]ava[^Ss]\"\n",
    "java_titles = titles[titles.str.contains(pattern)]\n",
    "first_10_matches(pattern)"
   ]
  },
  {
   "cell_type": "markdown",
   "metadata": {},
   "source": [
    "## word boundary anchor\n",
    "Specified using the syntax <b>\\b</b>.\n",
    "<br>A word boundary matches the position between a word character and a non-word character, or a word character and the start/end of a string. The diagram below shows all the word boundaries in an example string:</br>\n",
    "![ ](images\\regular17.png)"
   ]
  },
  {
   "cell_type": "code",
   "execution_count": null,
   "metadata": {},
   "outputs": [],
   "source": [
    "pattern = r\"\\b[Jj]ava\\b\"\n",
    "java_titles = titles[titles.str.contains(pattern)]"
   ]
  },
  {
   "cell_type": "code",
   "execution_count": null,
   "metadata": {},
   "outputs": [
    {
     "data": {
      "text/plain": [
       "436      Unikernel Power Comes to Java, Node.js, Go, an...\n",
       "811      Ask HN: Are there any projects or compilers wh...\n",
       "1023                          Pippo  Web framework in Java\n",
       "1972           Node.js vs. Java: Which Is Faster for APIs?\n",
       "2093                     Java EE and Microservices in 2016\n",
       "2367     Code that is valid in both PHP and Java, and p...\n",
       "2493     Ask HN: I've been a java dev for a couple of y...\n",
       "2751                 Eventsourcing for Java 0.4.0 released\n",
       "3228                               Comparing Rust and Java\n",
       "3452     What are the Differences Between Java Platform...\n",
       "3627                     Friends don't let friends do Java\n",
       "4273      Ask HN: Is Bloch's Effective Java Still Current?\n",
       "4624     Oracle Discloses Critical Java Vulnerability i...\n",
       "5461                        Lambdas (in Java 8) Screencast\n",
       "5847     IntelliJ IDEA and the whole IntelliJ platform ...\n",
       "6268             Oracle deprecating Java applets in Java 9\n",
       "7436     Forget Guava: 5 Google Libraries Java Develope...\n",
       "7481     Ask HN: Beside Java what languages have a stro...\n",
       "7686             Insider: Oracle has lost interest in Java\n",
       "8100        Advantages of Functional Programming in Java 8\n",
       "8447                  Show HN: Java multicore intelligence\n",
       "8487     Why IntelliJ IDEA is hailed as the most friend...\n",
       "8984     Ask HN: Should Learn/switch to JavaScript Prog...\n",
       "8987     Last-khajiit/vkb: Java bot for vk.com competit...\n",
       "10529             Angular 2 coming to Java, Python and PHP\n",
       "11454    Ask HN: Java or .NET for a new big enterprise ...\n",
       "11902                         The Java Deserialization Bug\n",
       "12382          Ask HN: Why does Java continue to dominate?\n",
       "12582    Java Memory Model Examples: Good, Bad and Ugly...\n",
       "12711    Oracle seeks $9.3B for Googles use of Java in ...\n",
       "12730                              Show HN: Shazam in Java\n",
       "13048        A high performance caching library for Java 8\n",
       "13105    Show HN: Backblaze-b2 is a simple java library...\n",
       "13150             Java Tops TIOBE's Popular-Languages List\n",
       "13170    Show HN: Tablesaw: A Java data-frame for 500M-...\n",
       "13272      Java StringBuffer and StringBuilder performance\n",
       "13620    1M Java questions have now been asked on Stack...\n",
       "13839        Ask HN: Hosting a Java Spring web application\n",
       "13843                                 Var and val in Java?\n",
       "13844               Answerz.com  Java and J2ee Programming\n",
       "13930     Java 8s new Optional type doesn't solve anything\n",
       "13934    Java 6 vs. Java 7 vs. Java 8 between 2013  201...\n",
       "14393              JavaScript is immature compared to Java\n",
       "14847    Show HN: TurboRLE: Bringing Turbo Run Length E...\n",
       "15257                       Oracle and the fall of Java EE\n",
       "15868                 Java generics never cease to impress\n",
       "16023    Will you use ReactJS with a REST service inste...\n",
       "16932       Swift versus Java: the bitset performance test\n",
       "16948          Show HN: Bt  0-hassle BitTorrent for Java 8\n",
       "17458                            Super Mario clone in Java\n",
       "17579                Java Lazy Streamed Zip Implementation\n",
       "18407    Show HN: Scala idioms in Java: cases, patterns...\n",
       "19481    Show HN: Adding List Comprehension in Java - E...\n",
       "19735          Java Named Top Programming Language of 2015\n",
       "Name: title, dtype: object"
      ]
     },
     "execution_count": 20,
     "metadata": {},
     "output_type": "execute_result"
    }
   ],
   "source": [
    "java_titles"
   ]
  },
  {
   "cell_type": "markdown",
   "metadata": {},
   "source": [
    "## beginning anchor and the end anchor\n",
    "\n",
    "<br>More generally in regular expressions, an anchor matches something that isn't a character, as opposed to character classes which match specific characters.</br>\n",
    "\n",
    "<br>Other than the word boundary anchor, the other two most common anchors are the beginning anchor and the end anchor, which represent the start and the end of the string, respectfully.</br>\n",
    "\n",
    "![ ](images\\regular18.png)"
   ]
  },
  {
   "cell_type": "markdown",
   "metadata": {},
   "source": [
    "Note that the <b>^</b> character is used both as a beginning anchor and to indicate a negative set, depending on whether the character preceding it is a <b>[</b>  or not.\n",
    "\n",
    "Let's start with a few test cases that all contain the substring Red at different parts of the string, as well as a test function:"
   ]
  },
  {
   "cell_type": "code",
   "execution_count": null,
   "metadata": {},
   "outputs": [
    {
     "name": "stdout",
     "output_type": "stream",
     "text": [
      "0    Red Nose Day is a well-known fundraising event\n",
      "1                          My favorite color is Red\n",
      "2          My Red Car was purchased three years ago\n",
      "dtype: object\n"
     ]
    }
   ],
   "source": [
    "test_cases = pd.Series([\n",
    "    \"Red Nose Day is a well-known fundraising event\",\n",
    "    \"My favorite color is Red\",\n",
    "    \"My Red Car was purchased three years ago\"\n",
    "])\n",
    "print(test_cases)"
   ]
  },
  {
   "cell_type": "markdown",
   "metadata": {},
   "source": [
    "If we want to match the word <b>Red</b> only if it occurs at the start of the string, we add the beginning anchor to the start of our regular expression:"
   ]
  },
  {
   "cell_type": "code",
   "execution_count": null,
   "metadata": {},
   "outputs": [
    {
     "data": {
      "text/plain": [
       "0     True\n",
       "1    False\n",
       "2    False\n",
       "dtype: bool"
      ]
     },
     "execution_count": 22,
     "metadata": {},
     "output_type": "execute_result"
    }
   ],
   "source": [
    "test_cases.str.contains(r\"^Red\")"
   ]
  },
  {
   "cell_type": "markdown",
   "metadata": {},
   "source": [
    "If we want to match the word Red only if it occurs at the end of the string, we add the end anchor to the end of our regular expression:"
   ]
  },
  {
   "cell_type": "code",
   "execution_count": null,
   "metadata": {},
   "outputs": [
    {
     "data": {
      "text/plain": [
       "0    False\n",
       "1     True\n",
       "2    False\n",
       "dtype: bool"
      ]
     },
     "execution_count": 23,
     "metadata": {},
     "output_type": "execute_result"
    }
   ],
   "source": [
    "test_cases.str.contains(r\"Red$\")"
   ]
  },
  {
   "cell_type": "code",
   "execution_count": null,
   "metadata": {},
   "outputs": [
    {
     "name": "stderr",
     "output_type": "stream",
     "text": [
      "C:\\Users\\lumum\\Anaconda3\\lib\\site-packages\\pandas\\core\\strings.py:1843: UserWarning: This pattern has match groups. To actually get the groups, use str.extract.\n",
      "  return func(self, *args, **kwargs)\n"
     ]
    }
   ],
   "source": [
    "pattern1 = \"^\\[(\\w+)\\]\"\n",
    "\n",
    "beginning_count = titles.str.contains(pattern1).sum()\n",
    "pattern2 = \"\\[(\\w+)\\]$\"\n",
    "ending_count = titles.str.contains(pattern2).sum()"
   ]
  },
  {
   "cell_type": "code",
   "execution_count": null,
   "metadata": {},
   "outputs": [
    {
     "data": {
      "text/plain": [
       "15"
      ]
     },
     "execution_count": 25,
     "metadata": {},
     "output_type": "execute_result"
    }
   ],
   "source": [
    "beginning_count"
   ]
  },
  {
   "cell_type": "code",
   "execution_count": null,
   "metadata": {},
   "outputs": [
    {
     "data": {
      "text/plain": [
       "417"
      ]
     },
     "execution_count": 26,
     "metadata": {},
     "output_type": "execute_result"
    }
   ],
   "source": [
    "ending_count"
   ]
  },
  {
   "cell_type": "code",
   "execution_count": null,
   "metadata": {},
   "outputs": [],
   "source": [
    "import re\n",
    "\n",
    "email_tests = pd.Series(['email', 'Email', 'e Mail', 'e mail', 'E-mail',\n",
    "              'e-mail', 'eMail', 'E-Mail', 'EMAIL', 'emails', 'Emails',\n",
    "              'E-Mails'])\n",
    "\n",
    "pattern = r\"\\be[\\-\\s]?mails?\\b\"\n",
    "email_mentions = titles.str.contains(pattern, flags=re.I).sum()"
   ]
  },
  {
   "cell_type": "code",
   "execution_count": null,
   "metadata": {},
   "outputs": [
    {
     "data": {
      "text/plain": [
       "141"
      ]
     },
     "execution_count": 28,
     "metadata": {},
     "output_type": "execute_result"
    }
   ],
   "source": [
    "email_mentions"
   ]
  },
  {
   "cell_type": "code",
   "execution_count": null,
   "metadata": {},
   "outputs": [],
   "source": []
  }
 ],
 "metadata": {
  "kernelspec": {
   "display_name": "Python 3",
   "language": "python",
   "name": "python3"
  },
  "language_info": {
   "codemirror_mode": {
    "name": "ipython",
    "version": 3
   },
   "file_extension": ".py",
   "mimetype": "text/x-python",
   "name": "python",
   "nbconvert_exporter": "python",
   "pygments_lexer": "ipython3",
   "version": "3.11.5"
  }
 },
 "nbformat": 4,
 "nbformat_minor": 2
}
