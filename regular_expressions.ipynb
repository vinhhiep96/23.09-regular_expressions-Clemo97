{
 "cells": [
  {
   "cell_type": "markdown",
   "metadata": {},
   "source": [
    "## Regular Expressions"
   ]
  },
  {
   "cell_type": "markdown",
   "metadata": {},
   "source": [
    "That said, learning (and loving!) regular expressions is something that is a worthwhile investment\n",
    "<ul>\n",
    "<li>Once you understand how they work, complex operations with string data can be written a lot quicker, which will save you time.</li>\n",
    "    <li>Regular expressions are often faster to execute than their manual equivalents.</li>\n",
    "<li>Regular expressions are supported in almost every modern programming language, as well as other places like command line utilities and databases. Understanding regular expressions gives you a powerful tool that you can use wherever you work with data.</li>\n",
    "    </ul>"
   ]
  },
  {
   "cell_type": "markdown",
   "metadata": {},
   "source": [
    "The dataset we will be working with is based off this CSV of Hacker News stories from September 2015 to September 2016. The columns in the dataset are explained below:\n",
    "<ul>\n",
    "    <li><b>id</b>: The unique identifier from Hacker News for the story</li>\n",
    "    <li><b>title</b>: The title of the story</li>\n",
    "    <li><b>url</b>: The URL that the stories links to, if the story has a URL</li>\n",
    "    <li><b>num_points</b>: The number of points the story acquired, calculated as the total number of upvotes minus the total number of downvotes</li>\n",
    "    <li><b>num_comments</b>: The number of comments that were made on the story</li>\n",
    "    <li><b>author</b>: The username of the person who submitted the story</li>\n",
    "    <li><b>created_at</b>: The date and time at which the story was submitted</li>\n",
    "    </ul>"
   ]
  },
  {
   "cell_type": "markdown",
   "metadata": {},
   "source": [
    "For teaching purposes, the dataset has been reduced from the almost 300,000 rows in its original form to approximately 20,000 rows by removing all submissions that did not receive any comments, and then randomly sampling from the remaining submissions. You can download the modified dataset using the dataset preview tool."
   ]
  },
  {
   "cell_type": "markdown",
   "metadata": {},
   "source": [
    "When working with regular expressions, we use the term <b>pattern</b> to describe a regular expression that we've written. If the pattern is found within the string we're searching, we say that it has matched."
   ]
  },
  {
   "cell_type": "markdown",
   "metadata": {},
   "source": [
    "As we previously learned, letters and numbers represent themselves in regular expressions. If we wanted to find the string \"and\" within another string, the regex pattern for that is simply and:\n",
    "![ ](images/regular1.png)"
   ]
  },
  {
   "cell_type": "markdown",
   "metadata": {},
   "source": [
    "<br>The first of these we'll learn is called a set. A set allows us to specify two or more characters that can match in a single character's position.</br>\n",
    "\n",
    "<br>We define a set by placing the characters we want to match for in square brackets:</br>\n",
    "![ ](images\\regular2.png)\n",
    "\n",
    "The regular expression above will match the strings <b>mend</b>, <b>send</b>, and <b>bend</b>."
   ]
  },
  {
   "cell_type": "markdown",
   "metadata": {},
   "source": [
    "Let's look at how we can add sets to match more of our example strings from earlier:\n",
    "![ ](images\\regular3.png)"
   ]
  },
  {
   "cell_type": "markdown",
   "metadata": {},
   "source": [
    "### Series.str.contains()"
   ]
  },
  {
   "cell_type": "code",
   "execution_count": 1,
   "metadata": {},
   "outputs": [
    {
     "data": {
      "text/html": [
       "<div>\n",
       "<style scoped>\n",
       "    .dataframe tbody tr th:only-of-type {\n",
       "        vertical-align: middle;\n",
       "    }\n",
       "\n",
       "    .dataframe tbody tr th {\n",
       "        vertical-align: top;\n",
       "    }\n",
       "\n",
       "    .dataframe thead th {\n",
       "        text-align: right;\n",
       "    }\n",
       "</style>\n",
       "<table border=\"1\" class=\"dataframe\">\n",
       "  <thead>\n",
       "    <tr style=\"text-align: right;\">\n",
       "      <th></th>\n",
       "      <th>id</th>\n",
       "      <th>title</th>\n",
       "      <th>url</th>\n",
       "      <th>num_points</th>\n",
       "      <th>num_comments</th>\n",
       "      <th>author</th>\n",
       "      <th>created_at</th>\n",
       "    </tr>\n",
       "  </thead>\n",
       "  <tbody>\n",
       "    <tr>\n",
       "      <th>0</th>\n",
       "      <td>12224879</td>\n",
       "      <td>Interactive Dynamic Video</td>\n",
       "      <td>http://www.interactivedynamicvideo.com/</td>\n",
       "      <td>386</td>\n",
       "      <td>52</td>\n",
       "      <td>ne0phyte</td>\n",
       "      <td>8/4/2016 11:52</td>\n",
       "    </tr>\n",
       "    <tr>\n",
       "      <th>1</th>\n",
       "      <td>11964716</td>\n",
       "      <td>Florida DJs May Face Felony for April Fools' W...</td>\n",
       "      <td>http://www.thewire.com/entertainment/2013/04/f...</td>\n",
       "      <td>2</td>\n",
       "      <td>1</td>\n",
       "      <td>vezycash</td>\n",
       "      <td>6/23/2016 22:20</td>\n",
       "    </tr>\n",
       "    <tr>\n",
       "      <th>2</th>\n",
       "      <td>11919867</td>\n",
       "      <td>Technology ventures: From Idea to Enterprise</td>\n",
       "      <td>https://www.amazon.com/Technology-Ventures-Ent...</td>\n",
       "      <td>3</td>\n",
       "      <td>1</td>\n",
       "      <td>hswarna</td>\n",
       "      <td>6/17/2016 0:01</td>\n",
       "    </tr>\n",
       "    <tr>\n",
       "      <th>3</th>\n",
       "      <td>10301696</td>\n",
       "      <td>Note by Note: The Making of Steinway L1037 (2007)</td>\n",
       "      <td>http://www.nytimes.com/2007/11/07/movies/07ste...</td>\n",
       "      <td>8</td>\n",
       "      <td>2</td>\n",
       "      <td>walterbell</td>\n",
       "      <td>9/30/2015 4:12</td>\n",
       "    </tr>\n",
       "    <tr>\n",
       "      <th>4</th>\n",
       "      <td>10482257</td>\n",
       "      <td>Title II kills investment? Comcast and other I...</td>\n",
       "      <td>http://arstechnica.com/business/2015/10/comcas...</td>\n",
       "      <td>53</td>\n",
       "      <td>22</td>\n",
       "      <td>Deinos</td>\n",
       "      <td>10/31/2015 9:48</td>\n",
       "    </tr>\n",
       "  </tbody>\n",
       "</table>\n",
       "</div>"
      ],
      "text/plain": [
       "         id                                              title  \\\n",
       "0  12224879                          Interactive Dynamic Video   \n",
       "1  11964716  Florida DJs May Face Felony for April Fools' W...   \n",
       "2  11919867       Technology ventures: From Idea to Enterprise   \n",
       "3  10301696  Note by Note: The Making of Steinway L1037 (2007)   \n",
       "4  10482257  Title II kills investment? Comcast and other I...   \n",
       "\n",
       "                                                 url  num_points  \\\n",
       "0            http://www.interactivedynamicvideo.com/         386   \n",
       "1  http://www.thewire.com/entertainment/2013/04/f...           2   \n",
       "2  https://www.amazon.com/Technology-Ventures-Ent...           3   \n",
       "3  http://www.nytimes.com/2007/11/07/movies/07ste...           8   \n",
       "4  http://arstechnica.com/business/2015/10/comcas...          53   \n",
       "\n",
       "   num_comments      author       created_at  \n",
       "0            52    ne0phyte   8/4/2016 11:52  \n",
       "1             1    vezycash  6/23/2016 22:20  \n",
       "2             1     hswarna   6/17/2016 0:01  \n",
       "3             2  walterbell   9/30/2015 4:12  \n",
       "4            22      Deinos  10/31/2015 9:48  "
      ]
     },
     "execution_count": 1,
     "metadata": {},
     "output_type": "execute_result"
    }
   ],
   "source": [
    "import pandas as pd\n",
    "import numpy as np\n",
    "hn = pd.read_csv(\"hacker_news.csv\")\n",
    "hn.head()"
   ]
  },
  {
   "cell_type": "code",
   "execution_count": 2,
   "metadata": {},
   "outputs": [
    {
     "name": "stdout",
     "output_type": "stream",
     "text": [
      "0             Julie's favorite color is green.\n",
      "1               Keli's favorite color is Blue.\n",
      "2    Craig's favorite colors are blue and red.\n",
      "dtype: object\n"
     ]
    }
   ],
   "source": [
    "eg_list = [\"Julie's favorite color is green.\",\n",
    "           \"Keli's favorite color is Blue.\",\n",
    "           \"Craig's favorite colors are blue and red.\"]\n",
    "\n",
    "eg_series = pd.Series(eg_list)\n",
    "print(eg_series)"
   ]
  },
  {
   "cell_type": "code",
   "execution_count": null,
   "metadata": {},
   "outputs": [],
   "source": []
  },
  {
   "cell_type": "code",
   "execution_count": 3,
   "metadata": {},
   "outputs": [
    {
     "name": "stdout",
     "output_type": "stream",
     "text": [
      "0    False\n",
      "1     True\n",
      "2     True\n",
      "dtype: bool\n"
     ]
    }
   ],
   "source": [
    "pattern = \"[Bb]lue\"\n",
    "pattern_contained = eg_series.str.contains(pattern)\n",
    "print(pattern_contained)"
   ]
  },
  {
   "cell_type": "markdown",
   "metadata": {},
   "source": [
    "<br>The result is a boolean mask: a series of <b>True/False</b> values.</br>\n",
    "\n",
    "<br>One of the neat things about boolean masks is that you can use the <b>Series.sum()</b> method to sum all the values in the boolean mask, with each True value counting as 1, and each False as 0. This means that we can easily count the number of values in the original series that matched our pattern:</br>"
   ]
  },
  {
   "cell_type": "code",
   "execution_count": 4,
   "metadata": {},
   "outputs": [
    {
     "data": {
      "text/plain": [
       "1               Keli's favorite color is Blue.\n",
       "2    Craig's favorite colors are blue and red.\n",
       "dtype: object"
      ]
     },
     "execution_count": 4,
     "metadata": {},
     "output_type": "execute_result"
    }
   ],
   "source": [
    "pattern = '[Bb]lue'\n",
    "pattern_contained = eg_series[eg_series.str.contains(pattern)]\n",
    "pattern_contained"
   ]
  },
  {
   "cell_type": "code",
   "execution_count": 5,
   "metadata": {},
   "outputs": [
    {
     "name": "stdout",
     "output_type": "stream",
     "text": [
      "Keli's favorite color is Blue.Craig's favorite colors are blue and red.\n"
     ]
    }
   ],
   "source": [
    "pattern_count = pattern_contained.sum()\n",
    "print(pattern_count)"
   ]
  },
  {
   "cell_type": "markdown",
   "metadata": {},
   "source": [
    "The following code explains how we can view the titles that match the <b>pattern</b>."
   ]
  },
  {
   "cell_type": "code",
   "execution_count": 6,
   "metadata": {},
   "outputs": [
    {
     "name": "stdout",
     "output_type": "stream",
     "text": [
      "0    False\n",
      "1    False\n",
      "2    False\n",
      "3    False\n",
      "4    False\n",
      "Name: title, dtype: bool\n"
     ]
    }
   ],
   "source": [
    "titles = hn['title']\n",
    "\n",
    "py_titles_bool = titles.str.contains(\"[Pp]ython\")\n",
    "print(py_titles_bool.head())"
   ]
  },
  {
   "cell_type": "code",
   "execution_count": 7,
   "metadata": {},
   "outputs": [
    {
     "name": "stdout",
     "output_type": "stream",
     "text": [
      "102                  From Python to Lua: Why We Switched\n",
      "103            Ubuntu 16.04 LTS to Ship Without Python 2\n",
      "144    Create a GUI Application Using Qt and Python i...\n",
      "196    How I Solved GCHQ's Xmas Card with Python and ...\n",
      "436    Unikernel Power Comes to Java, Node.js, Go, an...\n",
      "Name: title, dtype: object\n"
     ]
    }
   ],
   "source": [
    "py_titles = titles[py_titles_bool]\n",
    "print(py_titles.head())"
   ]
  },
  {
   "cell_type": "code",
   "execution_count": 8,
   "metadata": {},
   "outputs": [
    {
     "data": {
      "text/plain": [
       "title\n",
       "From Python to Lua: Why We Switched                                       1\n",
       "Ubuntu 16.04 LTS to Ship Without Python 2                                 1\n",
       "Building Powerful Frameworks in Python                                    1\n",
       "Show HN: Venv2docker  create a docker image from a python virtualenv      1\n",
       "Show HN: First Release of Transcrypt Python3.5 to JavaScript Compiler     1\n",
       "                                                                         ..\n",
       "Introducing TrumpScript  Make Python Great Again                          1\n",
       "A fast PostgreSQL client library for Python: 3x faster than psycopg2      1\n",
       "See Python, See Python Go, Go Python Go                                   1\n",
       "Python 3 support in scientific Python projects                            1\n",
       "Show HN: Decorating: Animated pulsed for your slow functions in Python    1\n",
       "Name: count, Length: 160, dtype: int64"
      ]
     },
     "execution_count": 8,
     "metadata": {},
     "output_type": "execute_result"
    }
   ],
   "source": [
    "py_titles.value_counts()"
   ]
  },
  {
   "cell_type": "markdown",
   "metadata": {},
   "source": [
    "## quantifier"
   ]
  },
  {
   "cell_type": "markdown",
   "metadata": {},
   "source": [
    "<br>We could use braces <b>({})</b> to specify that a character repeats in our regular expression.</br>\n",
    "\n",
    "<br>For instance, if we wanted to write a pattern that matches the numbers in text from <b>1000</b> to <b>2999</b> we could write the regular expression below:</br>\n",
    "![ ](images\\regular4.png)\n",
    "\n",
    "The name for this type of regular expression syntax is called a quantifier."
   ]
  },
  {
   "cell_type": "markdown",
   "metadata": {},
   "source": [
    "Quantifiers specify how many of the previous character our pattern requires, which can help us when we want to match substrings of specific lengths. As an example, we might want to match both <b>e-mail</b> and <b>email</b>. To do this, we would want to specify to match<b> - </b>either zero or one times."
   ]
  },
  {
   "cell_type": "markdown",
   "metadata": {},
   "source": [
    "The specific type of quantifier we saw above is called a <b>numeric quantifier</b>. Here are the different types of numeric quantifiers we can use:\n",
    "![ ](images\\regular7.png)\n",
    "You might notice that the last two examples above omit the first and last character as wildcards, in the same way that we can omit the first or last indicies when slicing lists."
   ]
  },
  {
   "cell_type": "markdown",
   "metadata": {},
   "source": [
    "In addition to numeric quantifiers, there are single characters in regex that specify some common quantifiers that you're likely to use. A summary of them is below.\n",
    "![ ](images\\regular8.png)"
   ]
  },
  {
   "cell_type": "code",
   "execution_count": 9,
   "metadata": {},
   "outputs": [],
   "source": [
    "#We're going to find how many titles in our dataset mention email or e-mail. \n",
    "#To do this, we'll need to use ?, the optional quantifier, \n",
    "#to specify that the dash character - is optional in our regular expression.\n",
    "titles = hn[\"title\"]\n",
    "pattern = \"e-{0,1}mail\"\n",
    "\n",
    "email_bool = titles.str.contains(pattern)\n",
    "email_count = email_bool.sum()\n",
    "email_titles = titles[email_bool]"
   ]
  },
  {
   "cell_type": "code",
   "execution_count": 10,
   "metadata": {},
   "outputs": [
    {
     "data": {
      "text/plain": [
       "119      Show HN: Send an email from your shell to your...\n",
       "161      Computer Specialist Who Deleted Clinton Emails...\n",
       "174                                        Email Apps Suck\n",
       "261      Emails Show Unqualified Clinton Foundation Don...\n",
       "313          Disposable emails for safe spam free shopping\n",
       "                               ...                        \n",
       "19303    Ask HN: Why big email providers don't sign the...\n",
       "19395    I used HTML Email when applying for jobs, here...\n",
       "19446    Tell HN: Secure email provider Riseup will run...\n",
       "19779                  Someone left my Gmail in debug mode\n",
       "19905    Gmail Will Soon Warn Users When Emails Arrive ...\n",
       "Name: title, Length: 179, dtype: object"
      ]
     },
     "execution_count": 10,
     "metadata": {},
     "output_type": "execute_result"
    }
   ],
   "source": [
    "title = hn['title']\n",
    "pattern = 'e*mail'\n",
    "title_bool = titles.str.contains(pattern)\n",
    "titles[title_bool]"
   ]
  },
  {
   "cell_type": "code",
   "execution_count": 11,
   "metadata": {},
   "outputs": [
    {
     "data": {
      "text/plain": [
       "119     Show HN: Send an email from your shell to your...\n",
       "313         Disposable emails for safe spam free shopping\n",
       "1361    Ask HN: Doing cold emails? helps us prove this...\n",
       "1750    Protect yourself from spam, bots and phishing ...\n",
       "2421                   Ashley Madison hack treating email\n",
       "Name: title, dtype: object"
      ]
     },
     "execution_count": 11,
     "metadata": {},
     "output_type": "execute_result"
    }
   ],
   "source": [
    "email_titles.head()"
   ]
  },
  {
   "cell_type": "markdown",
   "metadata": {},
   "source": [
    "## finding tags"
   ]
  },
  {
   "cell_type": "markdown",
   "metadata": {},
   "source": [
    "In this screen, our task is going to be to find how many titles in our dataset have tags.\n",
    "\n",
    "Our first inclination may be to create the regex <b>[pdf]</b>. Unfortunately, the brackets would be interpreted as a <b>set</b>, so our pattern would match the single characters p, d, or f.\n",
    "![ ](images\\regular9.png)"
   ]
  },
  {
   "cell_type": "markdown",
   "metadata": {},
   "source": [
    "To match the substring \"[pdf]\", we can use backslashes to escape both the open and closing brackets: \\[pdf\\].\n",
    "![ ](images\\regular10.png)\n",
    "\n",
    "The other critical part of our task of identifying how many titles have tags is knowing how to match the characters between the brackets (like pdf and video) without knowing ahead of time what the different topic tags will be."
   ]
  },
  {
   "cell_type": "markdown",
   "metadata": {},
   "source": [
    "To match unknown characters using regular expressions, we use <b>character classes</b>. Character classes allow us to match certain groups of characters. We've actually seen two examples of character classes already:\n",
    "<ol type=\"1\">\n",
    "    <li>\n",
    "The set notation using brackets to match any of a number of characters.</li>\n",
    "    <li>The range notation, which we used to match ranges of digits (like <b>[0-9])</b>.</li>\n",
    "    </ol>\n",
    "    \n",
    "<br>Let's look at a summary of syntax for some of the regex character classes:</br>\n",
    "\n",
    "![ ](images\\regular11.png)\n",
    "There are two new things we can observe from this table:\n",
    "<ol type=\"1\">\n",
    "    <li>Ranges can be used for letters as well as numbers.</li>\n",
    "    <li>Sets and ranges can be combined.</li>\n",
    "</ol>\n",
    "Just like with quantifiers, there are some other common character classes which we'll use a lot.\n",
    "\n",
    "![ ](images\\regular12.png)"
   ]
  },
  {
   "cell_type": "markdown",
   "metadata": {},
   "source": [
    "In order to match word characters between our brackets, we can combine the <b>word character class (\\w)</b> with the <b>'one or more'</b> <b>quantifier (+)</b>, giving us a combined pattern of <b>\\w+</b>."
   ]
  },
  {
   "cell_type": "markdown",
   "metadata": {},
   "source": [
    "This will match sequences like pdf, video, Python, and 2018 but won't match a sequence containing a space or punctuation character like PHP-DEV or XKCD Flowchart. If we wanted to match those tags as well, we could use .+; however, in this case, we're just interested in single-word tags without special characters.\n",
    "\n",
    "Let's quickly recap the concepts we learned in this screen:\n",
    "<ul>\n",
    "<li>We can use a backslash to escape characters that have special meaning in regular expressions (e.g. <b>\\</b> will match an open bracket character).</li>\n",
    "    <li>Character classes let us match certain groups of characters (e.g. <b>\\w</b> will match any word character).</li>\n",
    "<li>Character classes can be combined with quantifiers when we want to match different numbers of characters.</li>"
   ]
  },
  {
   "cell_type": "code",
   "execution_count": 12,
   "metadata": {},
   "outputs": [],
   "source": [
    "pattern = \"\\[\\w+\\]\"\n",
    "\n",
    "tag_titles = titles.str.contains(pattern)\n",
    "\n",
    "tag_count = tag_titles.sum()"
   ]
  },
  {
   "cell_type": "code",
   "execution_count": 13,
   "metadata": {},
   "outputs": [
    {
     "data": {
      "text/plain": [
       "title\n",
       "False    19655\n",
       "True       444\n",
       "Name: count, dtype: int64"
      ]
     },
     "execution_count": 13,
     "metadata": {},
     "output_type": "execute_result"
    }
   ],
   "source": [
    "tag_titles.value_counts()"
   ]
  },
  {
   "cell_type": "markdown",
   "metadata": {},
   "source": [
    "## raw strings\n",
    "\n",
    "![ ](images\\regular13.png)"
   ]
  },
  {
   "cell_type": "markdown",
   "metadata": {},
   "source": [
    "![ ](images\\regular14.png)"
   ]
  },
  {
   "cell_type": "markdown",
   "metadata": {},
   "source": [
    "<br>We strongly recommend using raw strings for every regex you write, rather than remember which sequences are escape sequences and using raw strings selectively.</br>\n",
    "<br>That way, you'll never encounter a situation where you forget or overlook something which causes your regex to break.</br>"
   ]
  },
  {
   "cell_type": "markdown",
   "metadata": {},
   "source": [
    "## capture groups\n",
    "Capture groups allow us to specify one or more groups within our match that we can access separately.\n",
    "<br>In this mission, we'll learn how to use one capture group per regular expression, but in the next mission we'll learn some more complex capture group patterns.</br>"
   ]
  },
  {
   "cell_type": "markdown",
   "metadata": {},
   "source": [
    "We specify capture groups using parentheses. Let's add an open and close parentheses to the pattern we wrote in the previous screen, and break down how each character in our regular expression works:\n",
    "\n",
    "![ ](images\\regular15.png)"
   ]
  },
  {
   "cell_type": "markdown",
   "metadata": {},
   "source": [
    "We use the <b>Series.str.extract()</b> method to extract the match within our parentheses, in order to find out what the text of these tags were, and how many of each are in the dataset?"
   ]
  },
  {
   "cell_type": "code",
   "execution_count": 14,
   "metadata": {},
   "outputs": [
    {
     "name": "stdout",
     "output_type": "stream",
     "text": [
      "66     Analysis of 114 propaganda sources from ISIS, ...\n",
      "100    Munich Gunman Got Weapon from the Darknet [Ger...\n",
      "159         File indexing and searching for Plan 9 [pdf]\n",
      "162    Attack on Kunduz Trauma Centre, Afghanistan  I...\n",
      "195               [Beta] Speedtest.net  HTML5 Speed Test\n",
      "Name: title, dtype: object\n"
     ]
    }
   ],
   "source": [
    "tag_5 = titles[tag_titles].head()\n",
    "print(tag_5)"
   ]
  },
  {
   "cell_type": "code",
   "execution_count": 15,
   "metadata": {},
   "outputs": [
    {
     "name": "stdout",
     "output_type": "stream",
     "text": [
      "          0\n",
      "66      pdf\n",
      "100  German\n",
      "159     pdf\n",
      "162     pdf\n",
      "195    Beta\n"
     ]
    }
   ],
   "source": [
    "pattern = r\"\\[(\\w+)\\]\"\n",
    "tag_5_matches = tag_5.str.extract(pattern)\n",
    "print(tag_5_matches)"
   ]
  },
  {
   "cell_type": "markdown",
   "metadata": {},
   "source": [
    "We can move our parentheses inside the brackets to get just the text:"
   ]
  },
  {
   "cell_type": "code",
   "execution_count": 16,
   "metadata": {},
   "outputs": [
    {
     "name": "stdout",
     "output_type": "stream",
     "text": [
      "          0\n",
      "66      pdf\n",
      "100  German\n",
      "159     pdf\n",
      "162     pdf\n",
      "195    Beta\n"
     ]
    }
   ],
   "source": [
    "pattern = r\"\\[(\\w+)\\]\"\n",
    "tag_5_matches = tag_5.str.extract(pattern)\n",
    "print(tag_5_matches)"
   ]
  },
  {
   "cell_type": "markdown",
   "metadata": {},
   "source": [
    "## negative character classes\n",
    "<br>Negative character classes are character classes that match every character except a character class.</br>\n",
    "\n",
    "<br>We can see that there are a number of matches that contain <b>Java</b> as part of the word <b>JavaScript</b>. We want to exclude these titles from matching so we get an accurate count. One way of doing this is by using negeative character classes.</br>\n",
    "Let's look at a table of the common negative character classes:\n",
    "![ ](images\\regular16.png)"
   ]
  },
  {
   "cell_type": "code",
   "execution_count": 17,
   "metadata": {},
   "outputs": [
    {
     "data": {
      "text/plain": [
       "436     Unikernel Power Comes to Java, Node.js, Go, an...\n",
       "811     Ask HN: Are there any projects or compilers wh...\n",
       "1840                    Adopting RxJava on the Airbnb App\n",
       "1972          Node.js vs. Java: Which Is Faster for APIs?\n",
       "2093                    Java EE and Microservices in 2016\n",
       "2367    Code that is valid in both PHP and Java, and p...\n",
       "2493    Ask HN: I've been a java dev for a couple of y...\n",
       "2751                Eventsourcing for Java 0.4.0 released\n",
       "2910                2016 JavaOne Intel Keynote  32mn Talk\n",
       "3452    What are the Differences Between Java Platform...\n",
       "Name: title, dtype: object"
      ]
     },
     "execution_count": 17,
     "metadata": {},
     "output_type": "execute_result"
    }
   ],
   "source": [
    "def first_10_matches(pattern):\n",
    "    \"\"\"\n",
    "    Return the first 10 story titles that match\n",
    "    the provided regular expression\n",
    "    \"\"\"\n",
    "    all_matches = titles[titles.str.contains(pattern)]\n",
    "    first_10 = all_matches.head(10)\n",
    "    return first_10\n",
    "\n",
    "pattern = r\"[Jj]ava[^Ss]\"\n",
    "java_titles = titles[titles.str.contains(pattern)]\n",
    "first_10_matches(pattern)"
   ]
  },
  {
   "cell_type": "code",
   "execution_count": null,
   "metadata": {},
   "outputs": [],
   "source": []
  },
  {
   "cell_type": "markdown",
   "metadata": {},
   "source": [
    "## word boundary anchor\n",
    "Specified using the syntax <b>\\b</b>.\n",
    "<br>A word boundary matches the position between a word character and a non-word character, or a word character and the start/end of a string. The diagram below shows all the word boundaries in an example string:</br>\n",
    "![ ](images\\regular17.png)"
   ]
  },
  {
   "cell_type": "code",
   "execution_count": 18,
   "metadata": {},
   "outputs": [
    {
     "data": {
      "text/plain": [
       "436      Unikernel Power Comes to Java, Node.js, Go, an...\n",
       "811      Ask HN: Are there any projects or compilers wh...\n",
       "1023                          Pippo  Web framework in Java\n",
       "1972           Node.js vs. Java: Which Is Faster for APIs?\n",
       "2093                     Java EE and Microservices in 2016\n",
       "2367     Code that is valid in both PHP and Java, and p...\n",
       "2493     Ask HN: I've been a java dev for a couple of y...\n",
       "2751                 Eventsourcing for Java 0.4.0 released\n",
       "3228                               Comparing Rust and Java\n",
       "3452     What are the Differences Between Java Platform...\n",
       "3627                     Friends don't let friends do Java\n",
       "4273      Ask HN: Is Bloch's Effective Java Still Current?\n",
       "4624     Oracle Discloses Critical Java Vulnerability i...\n",
       "5461                        Lambdas (in Java 8) Screencast\n",
       "5847     IntelliJ IDEA and the whole IntelliJ platform ...\n",
       "6268             Oracle deprecating Java applets in Java 9\n",
       "7436     Forget Guava: 5 Google Libraries Java Develope...\n",
       "7481     Ask HN: Beside Java what languages have a stro...\n",
       "7686             Insider: Oracle has lost interest in Java\n",
       "8100        Advantages of Functional Programming in Java 8\n",
       "8447                  Show HN: Java multicore intelligence\n",
       "8487     Why IntelliJ IDEA is hailed as the most friend...\n",
       "8984     Ask HN: Should Learn/switch to JavaScript Prog...\n",
       "8987     Last-khajiit/vkb: Java bot for vk.com competit...\n",
       "10529             Angular 2 coming to Java, Python and PHP\n",
       "11454    Ask HN: Java or .NET for a new big enterprise ...\n",
       "11902                         The Java Deserialization Bug\n",
       "12382          Ask HN: Why does Java continue to dominate?\n",
       "12582    Java Memory Model Examples: Good, Bad and Ugly...\n",
       "12711    Oracle seeks $9.3B for Googles use of Java in ...\n",
       "12730                              Show HN: Shazam in Java\n",
       "13048        A high performance caching library for Java 8\n",
       "13105    Show HN: Backblaze-b2 is a simple java library...\n",
       "13150             Java Tops TIOBE's Popular-Languages List\n",
       "13170    Show HN: Tablesaw: A Java data-frame for 500M-...\n",
       "13272      Java StringBuffer and StringBuilder performance\n",
       "13620    1M Java questions have now been asked on Stack...\n",
       "13839        Ask HN: Hosting a Java Spring web application\n",
       "13843                                 Var and val in Java?\n",
       "13844               Answerz.com  Java and J2ee Programming\n",
       "13930     Java 8s new Optional type doesn't solve anything\n",
       "13934    Java 6 vs. Java 7 vs. Java 8 between 2013  201...\n",
       "14393              JavaScript is immature compared to Java\n",
       "14847    Show HN: TurboRLE: Bringing Turbo Run Length E...\n",
       "15257                       Oracle and the fall of Java EE\n",
       "15868                 Java generics never cease to impress\n",
       "16023    Will you use ReactJS with a REST service inste...\n",
       "16932       Swift versus Java: the bitset performance test\n",
       "16948          Show HN: Bt  0-hassle BitTorrent for Java 8\n",
       "17458                            Super Mario clone in Java\n",
       "17579                Java Lazy Streamed Zip Implementation\n",
       "18407    Show HN: Scala idioms in Java: cases, patterns...\n",
       "19481    Show HN: Adding List Comprehension in Java - E...\n",
       "19735          Java Named Top Programming Language of 2015\n",
       "Name: title, dtype: object"
      ]
     },
     "execution_count": 18,
     "metadata": {},
     "output_type": "execute_result"
    }
   ],
   "source": [
    "pattern = r\"\\b[Jj]ava\\b\"\n",
    "java_titles = titles[titles.str.contains(pattern)]\n",
    "java_titles"
   ]
  },
  {
   "cell_type": "code",
   "execution_count": 19,
   "metadata": {},
   "outputs": [
    {
     "data": {
      "text/plain": [
       "436      Unikernel Power Comes to Java, Node.js, Go, an...\n",
       "811      Ask HN: Are there any projects or compilers wh...\n",
       "1023                          Pippo  Web framework in Java\n",
       "1972           Node.js vs. Java: Which Is Faster for APIs?\n",
       "2093                     Java EE and Microservices in 2016\n",
       "2367     Code that is valid in both PHP and Java, and p...\n",
       "2493     Ask HN: I've been a java dev for a couple of y...\n",
       "2751                 Eventsourcing for Java 0.4.0 released\n",
       "3228                               Comparing Rust and Java\n",
       "3452     What are the Differences Between Java Platform...\n",
       "3627                     Friends don't let friends do Java\n",
       "4273      Ask HN: Is Bloch's Effective Java Still Current?\n",
       "4624     Oracle Discloses Critical Java Vulnerability i...\n",
       "5461                        Lambdas (in Java 8) Screencast\n",
       "5847     IntelliJ IDEA and the whole IntelliJ platform ...\n",
       "6268             Oracle deprecating Java applets in Java 9\n",
       "7436     Forget Guava: 5 Google Libraries Java Develope...\n",
       "7481     Ask HN: Beside Java what languages have a stro...\n",
       "7686             Insider: Oracle has lost interest in Java\n",
       "8100        Advantages of Functional Programming in Java 8\n",
       "8447                  Show HN: Java multicore intelligence\n",
       "8487     Why IntelliJ IDEA is hailed as the most friend...\n",
       "8984     Ask HN: Should Learn/switch to JavaScript Prog...\n",
       "8987     Last-khajiit/vkb: Java bot for vk.com competit...\n",
       "10529             Angular 2 coming to Java, Python and PHP\n",
       "11454    Ask HN: Java or .NET for a new big enterprise ...\n",
       "11902                         The Java Deserialization Bug\n",
       "12382          Ask HN: Why does Java continue to dominate?\n",
       "12582    Java Memory Model Examples: Good, Bad and Ugly...\n",
       "12711    Oracle seeks $9.3B for Googles use of Java in ...\n",
       "12730                              Show HN: Shazam in Java\n",
       "13048        A high performance caching library for Java 8\n",
       "13105    Show HN: Backblaze-b2 is a simple java library...\n",
       "13150             Java Tops TIOBE's Popular-Languages List\n",
       "13170    Show HN: Tablesaw: A Java data-frame for 500M-...\n",
       "13272      Java StringBuffer and StringBuilder performance\n",
       "13620    1M Java questions have now been asked on Stack...\n",
       "13839        Ask HN: Hosting a Java Spring web application\n",
       "13843                                 Var and val in Java?\n",
       "13844               Answerz.com  Java and J2ee Programming\n",
       "13930     Java 8s new Optional type doesn't solve anything\n",
       "13934    Java 6 vs. Java 7 vs. Java 8 between 2013  201...\n",
       "14393              JavaScript is immature compared to Java\n",
       "14847    Show HN: TurboRLE: Bringing Turbo Run Length E...\n",
       "15257                       Oracle and the fall of Java EE\n",
       "15868                 Java generics never cease to impress\n",
       "16023    Will you use ReactJS with a REST service inste...\n",
       "16932       Swift versus Java: the bitset performance test\n",
       "16948          Show HN: Bt  0-hassle BitTorrent for Java 8\n",
       "17458                            Super Mario clone in Java\n",
       "17579                Java Lazy Streamed Zip Implementation\n",
       "18407    Show HN: Scala idioms in Java: cases, patterns...\n",
       "19481    Show HN: Adding List Comprehension in Java - E...\n",
       "19735          Java Named Top Programming Language of 2015\n",
       "Name: title, dtype: object"
      ]
     },
     "execution_count": 19,
     "metadata": {},
     "output_type": "execute_result"
    }
   ],
   "source": [
    "pattern = r'\\b[Jj]ava\\b'\n",
    "a = titles.str.contains(pattern)\n",
    "b = titles[a]\n",
    "b"
   ]
  },
  {
   "cell_type": "code",
   "execution_count": 20,
   "metadata": {},
   "outputs": [
    {
     "data": {
      "text/plain": [
       "436      Unikernel Power Comes to Java, Node.js, Go, an...\n",
       "811      Ask HN: Are there any projects or compilers wh...\n",
       "1023                          Pippo  Web framework in Java\n",
       "1972           Node.js vs. Java: Which Is Faster for APIs?\n",
       "2093                     Java EE and Microservices in 2016\n",
       "2367     Code that is valid in both PHP and Java, and p...\n",
       "2493     Ask HN: I've been a java dev for a couple of y...\n",
       "2751                 Eventsourcing for Java 0.4.0 released\n",
       "3228                               Comparing Rust and Java\n",
       "3452     What are the Differences Between Java Platform...\n",
       "3627                     Friends don't let friends do Java\n",
       "4273      Ask HN: Is Bloch's Effective Java Still Current?\n",
       "4624     Oracle Discloses Critical Java Vulnerability i...\n",
       "5461                        Lambdas (in Java 8) Screencast\n",
       "5847     IntelliJ IDEA and the whole IntelliJ platform ...\n",
       "6268             Oracle deprecating Java applets in Java 9\n",
       "7436     Forget Guava: 5 Google Libraries Java Develope...\n",
       "7481     Ask HN: Beside Java what languages have a stro...\n",
       "7686             Insider: Oracle has lost interest in Java\n",
       "8100        Advantages of Functional Programming in Java 8\n",
       "8447                  Show HN: Java multicore intelligence\n",
       "8487     Why IntelliJ IDEA is hailed as the most friend...\n",
       "8984     Ask HN: Should Learn/switch to JavaScript Prog...\n",
       "8987     Last-khajiit/vkb: Java bot for vk.com competit...\n",
       "10529             Angular 2 coming to Java, Python and PHP\n",
       "11454    Ask HN: Java or .NET for a new big enterprise ...\n",
       "11902                         The Java Deserialization Bug\n",
       "12382          Ask HN: Why does Java continue to dominate?\n",
       "12582    Java Memory Model Examples: Good, Bad and Ugly...\n",
       "12711    Oracle seeks $9.3B for Googles use of Java in ...\n",
       "12730                              Show HN: Shazam in Java\n",
       "13048        A high performance caching library for Java 8\n",
       "13105    Show HN: Backblaze-b2 is a simple java library...\n",
       "13150             Java Tops TIOBE's Popular-Languages List\n",
       "13170    Show HN: Tablesaw: A Java data-frame for 500M-...\n",
       "13272      Java StringBuffer and StringBuilder performance\n",
       "13620    1M Java questions have now been asked on Stack...\n",
       "13839        Ask HN: Hosting a Java Spring web application\n",
       "13843                                 Var and val in Java?\n",
       "13844               Answerz.com  Java and J2ee Programming\n",
       "13930     Java 8s new Optional type doesn't solve anything\n",
       "13934    Java 6 vs. Java 7 vs. Java 8 between 2013  201...\n",
       "14393              JavaScript is immature compared to Java\n",
       "14847    Show HN: TurboRLE: Bringing Turbo Run Length E...\n",
       "15257                       Oracle and the fall of Java EE\n",
       "15868                 Java generics never cease to impress\n",
       "16023    Will you use ReactJS with a REST service inste...\n",
       "16932       Swift versus Java: the bitset performance test\n",
       "16948          Show HN: Bt  0-hassle BitTorrent for Java 8\n",
       "17458                            Super Mario clone in Java\n",
       "17579                Java Lazy Streamed Zip Implementation\n",
       "18407    Show HN: Scala idioms in Java: cases, patterns...\n",
       "19481    Show HN: Adding List Comprehension in Java - E...\n",
       "19735          Java Named Top Programming Language of 2015\n",
       "Name: title, dtype: object"
      ]
     },
     "execution_count": 20,
     "metadata": {},
     "output_type": "execute_result"
    }
   ],
   "source": [
    "java_titles"
   ]
  },
  {
   "cell_type": "markdown",
   "metadata": {},
   "source": [
    "## beginning anchor and the end anchor\n",
    "\n",
    "<br>More generally in regular expressions, an anchor matches something that isn't a character, as opposed to character classes which match specific characters.</br>\n",
    "\n",
    "<br>Other than the word boundary anchor, the other two most common anchors are the beginning anchor and the end anchor, which represent the start and the end of the string, respectfully.</br>\n",
    "\n",
    "![ ](images\\regular18.png)"
   ]
  },
  {
   "cell_type": "markdown",
   "metadata": {},
   "source": [
    "Note that the <b>^</b> character is used both as a beginning anchor and to indicate a negative set, depending on whether the character preceding it is a <b>[</b>  or not.\n",
    "\n",
    "Let's start with a few test cases that all contain the substring Red at different parts of the string, as well as a test function:"
   ]
  },
  {
   "cell_type": "code",
   "execution_count": 21,
   "metadata": {},
   "outputs": [
    {
     "name": "stdout",
     "output_type": "stream",
     "text": [
      "0    Red Nose Day is a well-known fundraising event\n",
      "1                          My favorite color is Red\n",
      "2          My Red Car was purchased three years ago\n",
      "dtype: object\n"
     ]
    }
   ],
   "source": [
    "test_cases = pd.Series([\n",
    "    \"Red Nose Day is a well-known fundraising event\",\n",
    "    \"My favorite color is Red\",\n",
    "    \"My Red Car was purchased three years ago\"\n",
    "])\n",
    "print(test_cases)"
   ]
  },
  {
   "cell_type": "markdown",
   "metadata": {},
   "source": [
    "If we want to match the word <b>Red</b> only if it occurs at the start of the string, we add the beginning anchor to the start of our regular expression:"
   ]
  },
  {
   "cell_type": "code",
   "execution_count": 22,
   "metadata": {},
   "outputs": [
    {
     "data": {
      "text/plain": [
       "0     True\n",
       "1    False\n",
       "2    False\n",
       "dtype: bool"
      ]
     },
     "execution_count": 22,
     "metadata": {},
     "output_type": "execute_result"
    }
   ],
   "source": [
    "test_cases.str.contains(r\"^Red\")"
   ]
  },
  {
   "cell_type": "markdown",
   "metadata": {},
   "source": [
    "If we want to match the word Red only if it occurs at the end of the string, we add the end anchor to the end of our regular expression:"
   ]
  },
  {
   "cell_type": "code",
   "execution_count": 23,
   "metadata": {},
   "outputs": [
    {
     "data": {
      "text/plain": [
       "0    False\n",
       "1     True\n",
       "2    False\n",
       "dtype: bool"
      ]
     },
     "execution_count": 23,
     "metadata": {},
     "output_type": "execute_result"
    }
   ],
   "source": [
    "test_cases.str.contains(r\"Red$\")"
   ]
  },
  {
   "cell_type": "code",
   "execution_count": 24,
   "metadata": {},
   "outputs": [
    {
     "name": "stderr",
     "output_type": "stream",
     "text": [
      "C:\\Users\\duyen\\AppData\\Local\\Temp\\ipykernel_5440\\3903524805.py:3: UserWarning: This pattern is interpreted as a regular expression, and has match groups. To actually get the groups, use str.extract.\n",
      "  beginning_count = titles[titles.str.contains(pattern1)]\n",
      "C:\\Users\\duyen\\AppData\\Local\\Temp\\ipykernel_5440\\3903524805.py:5: UserWarning: This pattern is interpreted as a regular expression, and has match groups. To actually get the groups, use str.extract.\n",
      "  ending_count = titles.str.contains(pattern2).sum()\n"
     ]
    }
   ],
   "source": [
    "pattern1 = \"^\\[(\\w+)\\]\"\n",
    "\n",
    "beginning_count = titles[titles.str.contains(pattern1)]\n",
    "pattern2 = \"\\[(\\w+)\\]$\"\n",
    "ending_count = titles.str.contains(pattern2).sum()"
   ]
  },
  {
   "cell_type": "code",
   "execution_count": 25,
   "metadata": {},
   "outputs": [
    {
     "data": {
      "text/plain": [
       "195                 [Beta] Speedtest.net  HTML5 Speed Test\n",
       "398         [video] Google Self-Driving SUV Sideswipes Bus\n",
       "3136                           [CSS] Yellow Fade Technique\n",
       "5054     [React] proptypes-parser: Define React PropTyp...\n",
       "9389     [Petition] Tell Microsoft to stop making browsers\n",
       "10960      [pdf] Ninth Circuit Decision on AT&T Throttling\n",
       "11356    [video] a new tool to make your workflow as a ...\n",
       "12323                [Map] Watch as the US grows over time\n",
       "12374    [JavaScript] to promise or to callback? This i...\n",
       "13385                [video] Introducing Apple File System\n",
       "14397    [video] Boston Dynamics Atlas robot video comm...\n",
       "16747    [ask] Why you should borrow me your spare comp...\n",
       "19035    [2015] How one man earns $1M a year teaching w...\n",
       "19482       [Challenge] Sorting algorithm with constraints\n",
       "19583    [Ubuntu]if you do this sudo chmod 777 -R /etc,...\n",
       "Name: title, dtype: object"
      ]
     },
     "execution_count": 25,
     "metadata": {},
     "output_type": "execute_result"
    }
   ],
   "source": [
    "beginning_count"
   ]
  },
  {
   "cell_type": "code",
   "execution_count": 26,
   "metadata": {},
   "outputs": [
    {
     "data": {
      "text/plain": [
       "417"
      ]
     },
     "execution_count": 26,
     "metadata": {},
     "output_type": "execute_result"
    }
   ],
   "source": [
    "ending_count"
   ]
  },
  {
   "cell_type": "code",
   "execution_count": 34,
   "metadata": {},
   "outputs": [
    {
     "data": {
      "text/plain": [
       "4"
      ]
     },
     "execution_count": 34,
     "metadata": {},
     "output_type": "execute_result"
    }
   ],
   "source": [
    "import re\n",
    "\n",
    "email_tests = pd.Series(['email', 'Email', 'e Mail', 'e mail', 'E-mail',\n",
    "              'e-mail', 'eMail', 'E-Mail', 'EMAIL', 'emails', 'Emails',\n",
    "              'E-Mails'])\n",
    "\n",
    "pattern = r\"\\be[\\-\\s]?mails?\\b\"\n",
    "c = email_tests.str.contains(pattern, flags=re.I).sum()\n",
    "c\n"
   ]
  },
  {
   "cell_type": "code",
   "execution_count": 35,
   "metadata": {},
   "outputs": [
    {
     "data": {
      "text/plain": [
       "0     email\n",
       "3    e mail\n",
       "5    e-mail\n",
       "9    emails\n",
       "dtype: object"
      ]
     },
     "execution_count": 35,
     "metadata": {},
     "output_type": "execute_result"
    }
   ],
   "source": [
    "email_tests = pd.Series(['email', 'Email', 'e Mail', 'e mail', 'E-mail',\n",
    "              'e-mail', 'eMail', 'E-Mail', 'EMAIL', 'emails', 'Emails',\n",
    "              'E-Mails'])\n",
    "pattern = r\"\\be[\\-\\s]?mails?\\b\"\n",
    "a = email_tests[email_tests.str.contains(pattern)]\n",
    "a"
   ]
  },
  {
   "cell_type": "code",
   "execution_count": 28,
   "metadata": {},
   "outputs": [
    {
     "data": {
      "text/plain": [
       "141"
      ]
     },
     "execution_count": 28,
     "metadata": {},
     "output_type": "execute_result"
    }
   ],
   "source": [
    "email_mentions"
   ]
  },
  {
   "cell_type": "markdown",
   "metadata": {},
   "source": [
    "In this mission, we learned the basics of using regular expressions to perform powerful text matching, including:\n",
    "<ul>\n",
    "<li>Character classes to match certain groups of characters, including sets to match different capitalizations of programming languages.</li>\n",
    "<li>Quantifiers to match different quantities of characters, including matching different variations of \"email.\"</li>\n",
    "    <li>Negative character classes for matching anything except certain groups of characters.</li>\n",
    "    <li>Word boundaries to match only specific instances of words.</li>\n",
    "    <li>Positional anchors to match only at the start and end of strings.</li>\n",
    "    <li>The ignorecase flag to make patterns case insensitive.</li>\n",
    "    \n",
    "<br>In the next mission, we'll expand on our regular expression knowledge with some advanced regex concepts:</br>"
   ]
  },
  {
   "cell_type": "code",
   "execution_count": 41,
   "metadata": {},
   "outputs": [
    {
     "ename": "TypeError",
     "evalue": "unhashable type: 'list'",
     "output_type": "error",
     "traceback": [
      "\u001b[1;31m---------------------------------------------------------------------------\u001b[0m",
      "\u001b[1;31mTypeError\u001b[0m                                 Traceback (most recent call last)",
      "\u001b[1;32md:\\Other\\Lap trinh\\Jupyter\\23.09-regular_expressions-Clemo97\\regular_expressions.ipynb Cell 68\u001b[0m line \u001b[0;36m3\n\u001b[0;32m      <a href='vscode-notebook-cell:/d%3A/Other/Lap%20trinh/Jupyter/23.09-regular_expressions-Clemo97/regular_expressions.ipynb#Y123sZmlsZQ%3D%3D?line=0'>1</a>\u001b[0m TEST \u001b[39m=\u001b[39m pd\u001b[39m.\u001b[39mSeries(\u001b[39m'\u001b[39m\u001b[39mTruongvinh HiepHo VanthongLe Thi Nghevu van giangle nguyen phuonghang taVan Bac\u001b[39m\u001b[39m'\u001b[39m)\n\u001b[0;32m      <a href='vscode-notebook-cell:/d%3A/Other/Lap%20trinh/Jupyter/23.09-regular_expressions-Clemo97/regular_expressions.ipynb#Y123sZmlsZQ%3D%3D?line=1'>2</a>\u001b[0m PATTERN \u001b[39m=\u001b[39m [\u001b[39m'\u001b[39m\u001b[39mTruong\u001b[39m\u001b[39m'\u001b[39m, \u001b[39m'\u001b[39m\u001b[39mHo\u001b[39m\u001b[39m'\u001b[39m, \u001b[39m'\u001b[39m\u001b[39mLe\u001b[39m\u001b[39m'\u001b[39m, \u001b[39m'\u001b[39m\u001b[39mvu\u001b[39m\u001b[39m'\u001b[39m, \u001b[39m'\u001b[39m\u001b[39mle\u001b[39m\u001b[39m'\u001b[39m, \u001b[39m'\u001b[39m\u001b[39mta\u001b[39m\u001b[39m'\u001b[39m]\n\u001b[1;32m----> <a href='vscode-notebook-cell:/d%3A/Other/Lap%20trinh/Jupyter/23.09-regular_expressions-Clemo97/regular_expressions.ipynb#Y123sZmlsZQ%3D%3D?line=2'>3</a>\u001b[0m a \u001b[39m=\u001b[39m TEST\u001b[39m.\u001b[39;49mstr\u001b[39m.\u001b[39;49mcontains(PATTERN)\n",
      "File \u001b[1;32m~\\AppData\\Local\\Packages\\PythonSoftwareFoundation.Python.3.11_qbz5n2kfra8p0\\LocalCache\\local-packages\\Python311\\site-packages\\pandas\\core\\strings\\accessor.py:129\u001b[0m, in \u001b[0;36mforbid_nonstring_types.<locals>._forbid_nonstring_types.<locals>.wrapper\u001b[1;34m(self, *args, **kwargs)\u001b[0m\n\u001b[0;32m    124\u001b[0m     msg \u001b[39m=\u001b[39m (\n\u001b[0;32m    125\u001b[0m         \u001b[39mf\u001b[39m\u001b[39m\"\u001b[39m\u001b[39mCannot use .str.\u001b[39m\u001b[39m{\u001b[39;00mfunc_name\u001b[39m}\u001b[39;00m\u001b[39m with values of \u001b[39m\u001b[39m\"\u001b[39m\n\u001b[0;32m    126\u001b[0m         \u001b[39mf\u001b[39m\u001b[39m\"\u001b[39m\u001b[39minferred dtype \u001b[39m\u001b[39m'\u001b[39m\u001b[39m{\u001b[39;00m\u001b[39mself\u001b[39m\u001b[39m.\u001b[39m_inferred_dtype\u001b[39m}\u001b[39;00m\u001b[39m'\u001b[39m\u001b[39m.\u001b[39m\u001b[39m\"\u001b[39m\n\u001b[0;32m    127\u001b[0m     )\n\u001b[0;32m    128\u001b[0m     \u001b[39mraise\u001b[39;00m \u001b[39mTypeError\u001b[39;00m(msg)\n\u001b[1;32m--> 129\u001b[0m \u001b[39mreturn\u001b[39;00m func(\u001b[39mself\u001b[39;49m, \u001b[39m*\u001b[39;49margs, \u001b[39m*\u001b[39;49m\u001b[39m*\u001b[39;49mkwargs)\n",
      "File \u001b[1;32m~\\AppData\\Local\\Packages\\PythonSoftwareFoundation.Python.3.11_qbz5n2kfra8p0\\LocalCache\\local-packages\\Python311\\site-packages\\pandas\\core\\strings\\accessor.py:1281\u001b[0m, in \u001b[0;36mStringMethods.contains\u001b[1;34m(self, pat, case, flags, na, regex)\u001b[0m\n\u001b[0;32m   1154\u001b[0m \u001b[39m@forbid_nonstring_types\u001b[39m([\u001b[39m\"\u001b[39m\u001b[39mbytes\u001b[39m\u001b[39m\"\u001b[39m])\n\u001b[0;32m   1155\u001b[0m \u001b[39mdef\u001b[39;00m \u001b[39mcontains\u001b[39m(\n\u001b[0;32m   1156\u001b[0m     \u001b[39mself\u001b[39m, pat, case: \u001b[39mbool\u001b[39m \u001b[39m=\u001b[39m \u001b[39mTrue\u001b[39;00m, flags: \u001b[39mint\u001b[39m \u001b[39m=\u001b[39m \u001b[39m0\u001b[39m, na\u001b[39m=\u001b[39m\u001b[39mNone\u001b[39;00m, regex: \u001b[39mbool\u001b[39m \u001b[39m=\u001b[39m \u001b[39mTrue\u001b[39;00m\n\u001b[0;32m   1157\u001b[0m ):\n\u001b[0;32m   1158\u001b[0m \u001b[39m    \u001b[39m\u001b[39mr\u001b[39m\u001b[39m\"\"\"\u001b[39;00m\n\u001b[0;32m   1159\u001b[0m \u001b[39m    Test if pattern or regex is contained within a string of a Series or Index.\u001b[39;00m\n\u001b[0;32m   1160\u001b[0m \n\u001b[1;32m   (...)\u001b[0m\n\u001b[0;32m   1279\u001b[0m \u001b[39m    dtype: bool\u001b[39;00m\n\u001b[0;32m   1280\u001b[0m \u001b[39m    \"\"\"\u001b[39;00m\n\u001b[1;32m-> 1281\u001b[0m     \u001b[39mif\u001b[39;00m regex \u001b[39mand\u001b[39;00m re\u001b[39m.\u001b[39;49mcompile(pat)\u001b[39m.\u001b[39mgroups:\n\u001b[0;32m   1282\u001b[0m         warnings\u001b[39m.\u001b[39mwarn(\n\u001b[0;32m   1283\u001b[0m             \u001b[39m\"\u001b[39m\u001b[39mThis pattern is interpreted as a regular expression, and has \u001b[39m\u001b[39m\"\u001b[39m\n\u001b[0;32m   1284\u001b[0m             \u001b[39m\"\u001b[39m\u001b[39mmatch groups. To actually get the groups, use str.extract.\u001b[39m\u001b[39m\"\u001b[39m,\n\u001b[0;32m   1285\u001b[0m             \u001b[39mUserWarning\u001b[39;00m,\n\u001b[0;32m   1286\u001b[0m             stacklevel\u001b[39m=\u001b[39mfind_stack_level(),\n\u001b[0;32m   1287\u001b[0m         )\n\u001b[0;32m   1289\u001b[0m     result \u001b[39m=\u001b[39m \u001b[39mself\u001b[39m\u001b[39m.\u001b[39m_data\u001b[39m.\u001b[39marray\u001b[39m.\u001b[39m_str_contains(pat, case, flags, na, regex)\n",
      "File \u001b[1;32mC:\\Program Files\\WindowsApps\\PythonSoftwareFoundation.Python.3.11_3.11.1520.0_x64__qbz5n2kfra8p0\\Lib\\re\\__init__.py:227\u001b[0m, in \u001b[0;36mcompile\u001b[1;34m(pattern, flags)\u001b[0m\n\u001b[0;32m    225\u001b[0m \u001b[39mdef\u001b[39;00m \u001b[39mcompile\u001b[39m(pattern, flags\u001b[39m=\u001b[39m\u001b[39m0\u001b[39m):\n\u001b[0;32m    226\u001b[0m     \u001b[39m\"\u001b[39m\u001b[39mCompile a regular expression pattern, returning a Pattern object.\u001b[39m\u001b[39m\"\u001b[39m\n\u001b[1;32m--> 227\u001b[0m     \u001b[39mreturn\u001b[39;00m _compile(pattern, flags)\n",
      "File \u001b[1;32mC:\\Program Files\\WindowsApps\\PythonSoftwareFoundation.Python.3.11_3.11.1520.0_x64__qbz5n2kfra8p0\\Lib\\re\\__init__.py:277\u001b[0m, in \u001b[0;36m_compile\u001b[1;34m(pattern, flags)\u001b[0m\n\u001b[0;32m    275\u001b[0m     flags \u001b[39m=\u001b[39m flags\u001b[39m.\u001b[39mvalue\n\u001b[0;32m    276\u001b[0m \u001b[39mtry\u001b[39;00m:\n\u001b[1;32m--> 277\u001b[0m     \u001b[39mreturn\u001b[39;00m _cache[\u001b[39mtype\u001b[39;49m(pattern), pattern, flags]\n\u001b[0;32m    278\u001b[0m \u001b[39mexcept\u001b[39;00m \u001b[39mKeyError\u001b[39;00m:\n\u001b[0;32m    279\u001b[0m     \u001b[39mpass\u001b[39;00m\n",
      "\u001b[1;31mTypeError\u001b[0m: unhashable type: 'list'"
     ]
    }
   ],
   "source": [
    "TEST = pd.Series('Truongvinh HiepHo VanthongLe Thi Nghevu van giangle nguyen phuonghang taVan Bac')\n",
    "PATTERN = 'Truong, Ho, 'Le', 'vu', 'le', 'ta']\n",
    "a = TEST.str.contains(PATTERN)"
   ]
  }
 ],
 "metadata": {
  "kernelspec": {
   "display_name": "Python 3",
   "language": "python",
   "name": "python3"
  },
  "language_info": {
   "codemirror_mode": {
    "name": "ipython",
    "version": 3
   },
   "file_extension": ".py",
   "mimetype": "text/x-python",
   "name": "python",
   "nbconvert_exporter": "python",
   "pygments_lexer": "ipython3",
   "version": "3.11.5"
  }
 },
 "nbformat": 4,
 "nbformat_minor": 2
}
